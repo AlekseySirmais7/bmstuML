{
 "cells": [
  {
   "cell_type": "markdown",
   "metadata": {},
   "source": [
    "# Лабораторная работа 2"
   ]
  },
  {
   "cell_type": "markdown",
   "metadata": {},
   "source": [
    "### Цель: предсказывать факт выживания на корабле Титаник\n",
    "### Задачи\n",
    "\n",
    "* Провести визуальный анализ данных\n",
    "* Выбрать и обосновать метрику качества, попробовать несколько алгоритмов. Оптимизировать KNN в соответствии с метрикой\n",
    "* Сохранить данные в pickle"
   ]
  },
  {
   "cell_type": "markdown",
   "metadata": {},
   "source": [
    "Выполним действия по подготовке данных из ЛР 1:"
   ]
  },
  {
   "cell_type": "code",
   "execution_count": 1,
   "metadata": {},
   "outputs": [],
   "source": [
    "#импорт необходимых модулей\n",
    "import pandas as pd\n",
    "import numpy as np\n",
    "import matplotlib.pyplot as plt\n",
    "import seaborn as sns\n",
    "\n",
    "# Абсолютный путь до папки с данными\n",
    "dataPath = '/home/alex/Downloads/bmstuML/dataMl/'\n",
    "\n",
    "# читаем файл с данными для обучения\n",
    "dataTrain = pd.read_csv(dataPath + 'train.csv',sep=',')\n",
    "dataTrain = dataTrain.drop(['PassengerId', 'Name', 'Ticket', 'Cabin'], axis='columns') # не имеют логического обоснования\n",
    "dataTrain =  dataTrain.drop(['Pclass'], axis='columns') # из-за корреляции\n",
    "\n",
    "\n",
    "def replace_sex(sex):\n",
    "    if sex == 'female':\n",
    "        return 0\n",
    "    return 1\n",
    "\n",
    "dataTrain[\"Sex\"] = dataTrain['Sex'].apply(replace_sex)\n",
    "\n",
    "\n",
    "def oneHotEncoding(data, columnKey, rowKey):\n",
    "    addList = []\n",
    "    for index, row in data.iterrows():\n",
    "        if row[columnKey] == rowKey:\n",
    "            addList.append(1)\n",
    "        else:\n",
    "            addList.append(0)\n",
    "    data['is_'+ rowKey] = addList\n",
    "\n",
    "oneHotEncoding(dataTrain, 'Embarked','S')\n",
    "oneHotEncoding(dataTrain, 'Embarked','C')\n",
    "oneHotEncoding(dataTrain, 'Embarked','Q')\n",
    "      \n",
    "dataTrain = dataTrain.drop(['Embarked'], axis='columns')\n",
    "\n",
    "\n",
    "# удаляем всех без возраста\n",
    "dataTrain = dataTrain[dataTrain['Age'].notna()]\n",
    "\n",
    "\n",
    "\n",
    "# тестовые данные без результата\n",
    "dataTest = pd.read_csv(dataPath + 'test.csv',sep=',')\n",
    "\n",
    "# добавим результат в тест данные (так проще обрабатывать)\n",
    "dataTestResult = pd.read_csv(dataPath + 'gender_submission.csv',sep=',')\n",
    "dataTest['Survived'] = dataTestResult['Survived']\n",
    "\n",
    "#dataTest['Id2'] = dataTestResult['PassengerId'] # было для сверки id пассажира\n",
    "\n",
    "# обрабатываем тестовые данные также как и учебные\n",
    "dataTest = dataTest.drop([ 'PassengerId','Name', 'Ticket', 'Cabin', 'Pclass'], axis='columns')\n",
    "\n",
    "dataTest[\"Sex\"] = dataTest['Sex'].apply(replace_sex)\n",
    "\n",
    "oneHotEncoding(dataTest,'Embarked','S')\n",
    "oneHotEncoding(dataTest, 'Embarked','C')\n",
    "oneHotEncoding(dataTest, 'Embarked','Q')\n",
    "dataTest = dataTest.drop(['Embarked'], axis='columns')\n",
    "\n",
    "\n",
    "dataTest = dataTest[dataTest['Age'].notna()]\n",
    "\n",
    "\n",
    "dataTest = dataTest[dataTest['Fare'].notna()]\n"
   ]
  },
  {
   "cell_type": "code",
   "execution_count": 2,
   "metadata": {},
   "outputs": [
    {
     "data": {
      "text/plain": [
       "0.6132930513595166"
      ]
     },
     "execution_count": 2,
     "metadata": {},
     "output_type": "execute_result"
    }
   ],
   "source": [
    "# выделяем целевую переменную и данные для обучения и тестов\n",
    "y_train = dataTrain['Survived']\n",
    "dataTrain = dataTrain.drop(['Survived'], axis='columns')\n",
    "X_train = dataTrain\n",
    "\n",
    "\n",
    "y_test = dataTest['Survived']\n",
    "dataTest = dataTest.drop(['Survived'], axis='columns')\n",
    "X_test = dataTest\n",
    "\n",
    "\n",
    "#импорт класс классификатора по ближайшим соседям\n",
    "from sklearn.neighbors import KNeighborsClassifier\n",
    "\n",
    "clf = KNeighborsClassifier(n_neighbors = 5)\n",
    "\n",
    "# обучение\n",
    "clf.fit(X_train, y_train)\n",
    "\n",
    "# тест\n",
    "clf.score(X_test, y_test)"
   ]
  },
  {
   "cell_type": "code",
   "execution_count": 3,
   "metadata": {},
   "outputs": [
    {
     "data": {
      "text/html": [
       "<div>\n",
       "<style scoped>\n",
       "    .dataframe tbody tr th:only-of-type {\n",
       "        vertical-align: middle;\n",
       "    }\n",
       "\n",
       "    .dataframe tbody tr th {\n",
       "        vertical-align: top;\n",
       "    }\n",
       "\n",
       "    .dataframe thead th {\n",
       "        text-align: right;\n",
       "    }\n",
       "</style>\n",
       "<table border=\"1\" class=\"dataframe\">\n",
       "  <thead>\n",
       "    <tr style=\"text-align: right;\">\n",
       "      <th></th>\n",
       "      <th>Sex</th>\n",
       "      <th>Age</th>\n",
       "      <th>SibSp</th>\n",
       "      <th>Parch</th>\n",
       "      <th>Fare</th>\n",
       "      <th>is_S</th>\n",
       "      <th>is_C</th>\n",
       "      <th>is_Q</th>\n",
       "    </tr>\n",
       "  </thead>\n",
       "  <tbody>\n",
       "    <tr>\n",
       "      <th>0</th>\n",
       "      <td>1</td>\n",
       "      <td>22.0</td>\n",
       "      <td>1</td>\n",
       "      <td>0</td>\n",
       "      <td>7.25</td>\n",
       "      <td>1</td>\n",
       "      <td>0</td>\n",
       "      <td>0</td>\n",
       "    </tr>\n",
       "  </tbody>\n",
       "</table>\n",
       "</div>"
      ],
      "text/plain": [
       "   Sex   Age  SibSp  Parch  Fare  is_S  is_C  is_Q\n",
       "0    1  22.0      1      0  7.25     1     0     0"
      ]
     },
     "execution_count": 3,
     "metadata": {},
     "output_type": "execute_result"
    }
   ],
   "source": [
    "X_train.head(1)"
   ]
  },
  {
   "cell_type": "markdown",
   "metadata": {},
   "source": [
    "### Корреляция"
   ]
  },
  {
   "cell_type": "code",
   "execution_count": 4,
   "metadata": {},
   "outputs": [
    {
     "name": "stderr",
     "output_type": "stream",
     "text": [
      "/home/alex/.local/lib/python3.6/site-packages/seaborn/_decorators.py:43: FutureWarning: Pass the following variable as a keyword arg: x. From version 0.12, the only valid positional argument will be `data`, and passing other arguments without an explicit keyword will result in an error or misinterpretation.\n",
      "  FutureWarning\n"
     ]
    },
    {
     "data": {
      "text/plain": [
       "<AxesSubplot:xlabel='Sex', ylabel='count'>"
      ]
     },
     "execution_count": 4,
     "metadata": {},
     "output_type": "execute_result"
    },
    {
     "data": {
      "image/png": "[encoded data removed]",
      "text/plain": [
       "<Figure size 432x288 with 1 Axes>"
      ]
     },
     "metadata": {
      "needs_background": "light"
     },
     "output_type": "display_data"
    }
   ],
   "source": [
    "# смотрим кто выживал\n",
    "sns.countplot(X_train['Sex'], hue=y_train)"
   ]
  },
  {
   "cell_type": "markdown",
   "metadata": {},
   "source": [
    "Среди женщин выживших больше. Посмотрим корреляцию между величиными на графиках:"
   ]
  },
  {
   "cell_type": "code",
   "execution_count": 5,
   "metadata": {},
   "outputs": [
    {
     "name": "stderr",
     "output_type": "stream",
     "text": [
      "/home/alex/.local/lib/python3.6/site-packages/ipykernel_launcher.py:2: SettingWithCopyWarning: \n",
      "A value is trying to be set on a copy of a slice from a DataFrame.\n",
      "Try using .loc[row_indexer,col_indexer] = value instead\n",
      "\n",
      "See the caveats in the documentation: https://pandas.pydata.org/pandas-docs/stable/user_guide/indexing.html#returning-a-view-versus-a-copy\n",
      "  \n"
     ]
    },
    {
     "data": {
      "text/plain": [
       "<seaborn.axisgrid.PairGrid at 0x7fadbd38bd30>"
      ]
     },
     "execution_count": 5,
     "metadata": {},
     "output_type": "execute_result"
    },
    {
     "data": {
      "image/png": "[encoded data removed]",
      "text/plain": [
       "<Figure size 900x900 with 25 Axes>"
      ]
     },
     "metadata": {
      "needs_background": "light"
     },
     "output_type": "display_data"
    }
   ],
   "source": [
    "df_for_pairgrid = X_train[['Sex','Age','SibSp','Parch','Fare']]\n",
    "df_for_pairgrid['Survived'] = y_train\n",
    "\n",
    "sns.PairGrid(df_for_pairgrid, hue='Survived').map(plt.scatter)"
   ]
  },
  {
   "cell_type": "markdown",
   "metadata": {},
   "source": [
    "### Медиана. Проверяем выбросы"
   ]
  },
  {
   "cell_type": "code",
   "execution_count": 6,
   "metadata": {},
   "outputs": [
    {
     "data": {
      "text/plain": [
       "<AxesSubplot:xlabel='Survived', ylabel='Age'>"
      ]
     },
     "execution_count": 6,
     "metadata": {},
     "output_type": "execute_result"
    },
    {
     "data": {
      "image/png": "[encoded data removed]",
      "text/plain": [
       "<Figure size 432x288 with 1 Axes>"
      ]
     },
     "metadata": {
      "needs_background": "light"
     },
     "output_type": "display_data"
    }
   ],
   "source": [
    "age = X_train['Age']\n",
    "sns.boxplot(x=y_train, y = age)"
   ]
  },
  {
   "cell_type": "code",
   "execution_count": 7,
   "metadata": {},
   "outputs": [
    {
     "data": {
      "text/plain": [
       "<AxesSubplot:xlabel='Survived', ylabel='Age'>"
      ]
     },
     "execution_count": 7,
     "metadata": {},
     "output_type": "execute_result"
    },
    {
     "data": {
      "image/png": "[encoded data removed]",
      "text/plain": [
       "<Figure size 432x288 with 1 Axes>"
      ]
     },
     "metadata": {
      "needs_background": "light"
     },
     "output_type": "display_data"
    }
   ],
   "source": [
    "sns.violinplot(x=y_train, y = age)"
   ]
  },
  {
   "cell_type": "code",
   "execution_count": 8,
   "metadata": {},
   "outputs": [
    {
     "data": {
      "text/plain": [
       "<AxesSubplot:xlabel='Survived', ylabel='Fare'>"
      ]
     },
     "execution_count": 8,
     "metadata": {},
     "output_type": "execute_result"
    },
    {
     "data": {
      "image/png": "[encoded data removed]",
      "text/plain": [
       "<Figure size 432x288 with 1 Axes>"
      ]
     },
     "metadata": {
      "needs_background": "light"
     },
     "output_type": "display_data"
    }
   ],
   "source": [
    "fare = X_train['Fare']\n",
    "sns.violinplot(x=y_train, y = fare)"
   ]
  },
  {
   "cell_type": "markdown",
   "metadata": {},
   "source": [
    "* Видим, что некоторым пассажирам с дорогими(~300) билетами не спаслись. Цена билета не являтся ключевым фактором. Возможно стоит выкинуть самых богатых людей из выборки, чтобы более удачно использовать вес цены билета и более удачно предсказывать шансы для большинства пассажиров.\n",
    "* Огромная цена(~300) билета не всегда гарантирует спасение, но видно, что при смерти плотность у дешевых билетов больше."
   ]
  },
  {
   "cell_type": "markdown",
   "metadata": {},
   "source": [
    "### Нормализация"
   ]
  },
  {
   "cell_type": "code",
   "execution_count": 9,
   "metadata": {},
   "outputs": [
    {
     "name": "stdout",
     "output_type": "stream",
     "text": [
      "Before scale: 0.595166163141994\n",
      "After scale: 0.9486404833836858\n"
     ]
    }
   ],
   "source": [
    "from sklearn.preprocessing import MinMaxScaler\n",
    "from sklearn.neighbors import KNeighborsClassifier\n",
    "\n",
    "neighbors_count = 15\n",
    "\n",
    "print('Before scale:', KNeighborsClassifier(n_neighbors=neighbors_count).fit(X_train, y_train).score(X_test, y_test))\n",
    "\n",
    "scaler = MinMaxScaler()\n",
    "\n",
    "X_train_scaled = pd.DataFrame(scaler.fit_transform(X_train,), columns=X_train.columns)\n",
    "X_test_scaled = pd.DataFrame(scaler.fit_transform(X_test,), columns=X_test.columns)\n",
    "\n",
    "\n",
    "print('After scale:', KNeighborsClassifier(n_neighbors=neighbors_count).fit(X_train_scaled, y_train).score(X_test_scaled, y_test))\n",
    "\n"
   ]
  },
  {
   "cell_type": "markdown",
   "metadata": {},
   "source": [
    "* Нормализация оказала огромное влияние на результат, позволила достаточно точно предсказать результат на тест данных. С новой информацией вывод после 1 ЛР о том, что метод ближних соседей не является оптимальным для данной задачи, теряет свою актуальность.\n",
    "\n",
    "* Графики:"
   ]
  },
  {
   "cell_type": "code",
   "execution_count": 10,
   "metadata": {},
   "outputs": [
    {
     "data": {
      "image/png": "[encoded data removed]",
      "text/plain": [
       "<Figure size 432x288 with 2 Axes>"
      ]
     },
     "metadata": {
      "needs_background": "light"
     },
     "output_type": "display_data"
    }
   ],
   "source": [
    "fig, (ax1, ax2) = plt.subplots(ncols=2)\n",
    "\n",
    "ax1.set_title('Before Scaling');\n",
    "sns.kdeplot(X_train['Fare'], ax=ax1)\n",
    "sns.kdeplot(X_train['Age'], ax=ax1)\n",
    "\n",
    "ax2.set_title('After MinMax scaling');\n",
    "sns.kdeplot(X_train_scaled['Fare'], ax=ax2)\n",
    "sns.kdeplot(X_train_scaled['Age'], ax=ax2)\n",
    "\n",
    "plt.show()"
   ]
  },
  {
   "cell_type": "markdown",
   "metadata": {},
   "source": [
    "### Pipeline\n",
    "\n",
    "Опишем функции и класс для использования в Pipeline(). "
   ]
  },
  {
   "cell_type": "code",
   "execution_count": 11,
   "metadata": {},
   "outputs": [
    {
     "name": "stdout",
     "output_type": "stream",
     "text": [
      "After preparing pipeline: 0.9486404833836858\n"
     ]
    }
   ],
   "source": [
    "from sklearn.pipeline import Pipeline\n",
    "from sklearn.feature_extraction.text import TfidfVectorizer\n",
    "\n",
    "\n",
    "def replace_sex_value_pipe(sex):\n",
    "    if sex == 'female':\n",
    "        return 0\n",
    "    return 1\n",
    "\n",
    "\n",
    "def oneHotEncodingP(data, columnKey, rowKey):\n",
    "    addList = []\n",
    "    for index, row in data.iterrows():\n",
    "        if row[columnKey] == rowKey:\n",
    "            addList.append(1)\n",
    "        else:\n",
    "            addList.append(0)\n",
    "    data['is_'+ rowKey] = addList\n",
    "\n",
    "\n",
    "\n",
    "def delete_columns_pipe(data):\n",
    "    data = data.drop(['PassengerId', 'Name', 'Ticket', 'Cabin', 'Pclass'], axis='columns')\n",
    "    return data\n",
    "\n",
    "\n",
    "def replace_sex_pipe(data):\n",
    "    data[\"Sex\"] = data['Sex'].apply(replace_sex_value_pipe)\n",
    "    return data\n",
    "    \n",
    "\n",
    "\n",
    "def one_hot_encode_embarked_pipe(data):\n",
    "    data.head(1)\n",
    "    oneHotEncodingP(data, 'Embarked','S')\n",
    "    oneHotEncodingP(data, 'Embarked','C')\n",
    "    oneHotEncodingP(data, 'Embarked','Q')\n",
    "    data = data.drop(['Embarked'], axis='columns')\n",
    "    return data\n",
    "\n",
    "\n",
    "def delete_nan_age(data):\n",
    "    data = data[data['Age'].notna()]\n",
    "    return data\n",
    "    \n",
    "\n",
    "def delete_nan_fare(data):\n",
    "    data = data[data['Fare'].notna()]\n",
    "    return data\n",
    "\n",
    "# все комментарии - это попытка избежать нормирования data['Survived']\n",
    "# это не повлияло не результат, но ...\n",
    "def scale_pipe(data):\n",
    "    #saveSurvived = pd.DataFrame()\n",
    "    #saveSurvived['Survived'] = data['Survived']\n",
    "    #print('len(saveSurvived):',len(saveSurvived))\n",
    "    #data = data.drop(['Survived'], axis='columns')\n",
    "    scaler = MinMaxScaler()\n",
    "    data = pd.DataFrame(scaler.fit_transform(data,), columns=data.columns)\n",
    "    #saveSurvived.info()\n",
    "    #data['Survived'] = saveSurvived['Survived']\n",
    "    #data.info()\n",
    "    # Почему сохраняются не все  data['Survived'] \n",
    "    return data\n",
    "                         \n",
    "\n",
    "\n",
    "class DataframeFunctionTransformer():\n",
    "    def __init__(self, func):\n",
    "        self.func = func\n",
    "\n",
    "    def transform(self, input_df, **transform_params):\n",
    "        return self.func(input_df)\n",
    "\n",
    "    def fit(self, X, y=None, **fit_params):\n",
    "        return self\n",
    "\n",
    "\n",
    "\n",
    "# this pipeline has a single step\n",
    "pipeline = Pipeline([\n",
    "     (\"удаляем колонки\", DataframeFunctionTransformer(delete_columns_pipe)),\n",
    "     (\"меняем пол на 0 и 1\", DataframeFunctionTransformer(replace_sex_pipe)),\n",
    "     (\"меняем представляем о порте в данных\", DataframeFunctionTransformer(one_hot_encode_embarked_pipe)),\n",
    "     (\"удаляем всех без возраста\", DataframeFunctionTransformer(delete_nan_age)),\n",
    "     (\"удаляем всех без цены\", DataframeFunctionTransformer(delete_nan_fare)),\n",
    "     (\"нормализация\", DataframeFunctionTransformer(scale_pipe)),\n",
    "])\n",
    "\n",
    "\n",
    "\n",
    "dataTrain = pd.read_csv(dataPath + 'train.csv',sep=',')\n",
    "\n",
    "dataTest = pd.read_csv(dataPath + 'test.csv',sep=',')\n",
    "# добавим результат в тест данные (так проще обрабатывать, перед обучением удалим)\n",
    "dataTestResult = pd.read_csv(dataPath + 'gender_submission.csv',sep=',')\n",
    "dataTest['Survived'] = dataTestResult['Survived']\n",
    "\n",
    "\n",
    "dataTrain = pipeline.fit_transform(dataTrain)\n",
    "\n",
    "dataTest = pipeline.fit_transform(dataTest);\n",
    "\n",
    "\n",
    "y_train = dataTrain['Survived']\n",
    "dataTrain = dataTrain.drop(['Survived'], axis='columns')\n",
    "X_train = dataTrain\n",
    "\n",
    "\n",
    "y_test = dataTest['Survived']\n",
    "dataTest = dataTest.drop(['Survived'], axis='columns')\n",
    "X_test = dataTest\n",
    "\n",
    "\n",
    "neighbors_count = 15\n",
    "print('After preparing pipeline:', KNeighborsClassifier(n_neighbors=neighbors_count).fit(X_train, y_train).score(X_test, y_test))\n"
   ]
  },
  {
   "cell_type": "markdown",
   "metadata": {},
   "source": [
    "### Сохранение данных в pickle\n",
    "\n",
    "* Сохранним данные и проверим результат по ним до и после сохранения"
   ]
  },
  {
   "cell_type": "code",
   "execution_count": 12,
   "metadata": {},
   "outputs": [
    {
     "name": "stdout",
     "output_type": "stream",
     "text": [
      "After read: 0.9486404833836858\n",
      "Same: True\n"
     ]
    }
   ],
   "source": [
    "\n",
    "trainDataPath = '/home/alex/Downloads/bmstuML/dataMl/trainData.plk'\n",
    "\n",
    "testDataPath = '/home/alex/Downloads/bmstuML/dataMl/testData.plk'\n",
    "\n",
    "X_train.to_pickle(trainDataPath) \n",
    "X_test.to_pickle(testDataPath) \n",
    "\n",
    "X_train = pd.read_pickle(trainDataPath)\n",
    "X_test = pd.read_pickle(testDataPath)\n",
    "\n",
    "neighbors_count =  15\n",
    "\n",
    "# check result like step above\n",
    "resultFromRead = KNeighborsClassifier(n_neighbors=neighbors_count).fit(X_train, y_train).score(X_test, y_test)\n",
    "print('After read:', resultFromRead)\n",
    "\n",
    "resultBeforeRead = KNeighborsClassifier(n_neighbors=neighbors_count).fit(X_train, y_train).score(X_test, y_test)\n",
    "print('Same:', resultBeforeRead == resultFromRead)"
   ]
  },
  {
   "cell_type": "markdown",
   "metadata": {},
   "source": [
    "### Подбор алгоритма"
   ]
  },
  {
   "cell_type": "code",
   "execution_count": 13,
   "metadata": {},
   "outputs": [
    {
     "name": "stdout",
     "output_type": "stream",
     "text": [
      "DecisionTreeClassifier 0.7915407854984894\n",
      "SGDClassifier 0.9758308157099698\n",
      "SVC 0.9969788519637462\n",
      "GaussianNB 0.8126888217522659\n",
      "KNeighborsClassifier 0.9486404833836858\n"
     ]
    }
   ],
   "source": [
    "from sklearn.tree import DecisionTreeClassifier\n",
    "from sklearn.linear_model import SGDClassifier\n",
    "from sklearn.svm import SVC\n",
    "from sklearn.naive_bayes import GaussianNB\n",
    "\n",
    "neighbors_count =  15\n",
    "\n",
    "for clf in [DecisionTreeClassifier(), SGDClassifier(),SVC(), GaussianNB(), KNeighborsClassifier(n_neighbors = neighbors_count)]:\n",
    "    print(clf.__class__.__name__, clf.fit(X_train, y_train).score(X_test, y_test))\n"
   ]
  },
  {
   "cell_type": "markdown",
   "metadata": {},
   "source": [
    "* Заметим, что лучший результат показал метод опорных векторов."
   ]
  },
  {
   "cell_type": "markdown",
   "metadata": {},
   "source": [
    "### Стратификация\n",
    "Оценим насколько больше человек погибло чем выжило:"
   ]
  },
  {
   "cell_type": "code",
   "execution_count": 14,
   "metadata": {},
   "outputs": [
    {
     "name": "stdout",
     "output_type": "stream",
     "text": [
      "0.0    424\n",
      "1.0    290\n",
      "Name: Survived, dtype: int64\n",
      "\n",
      "Survived part: 0.4061624649859944\n"
     ]
    }
   ],
   "source": [
    "print(y_train.value_counts())\n",
    "\n",
    "survived_count = y_train.gt(0.8).sum(axis=0)\n",
    "dead_cound =  y_train.lt(0.8).sum(axis=0)\n",
    "\n",
    "print('\\nSurvived part:', survived_count/ (survived_count + dead_cound))\n",
    "      "
   ]
  },
  {
   "cell_type": "markdown",
   "metadata": {},
   "source": [
    "Заметим, что соотношение 60/40%. Здесь нет явного преобладания одного значения, клонирование выживших для соотношения 50% на 50% не несет ощутимой пользы."
   ]
  },
  {
   "cell_type": "markdown",
   "metadata": {},
   "source": [
    "### Метрика качества\n",
    "Посмотрим долю верных ответов (до этого смотрели её по умолчанию):"
   ]
  },
  {
   "cell_type": "code",
   "execution_count": 15,
   "metadata": {},
   "outputs": [
    {
     "name": "stdout",
     "output_type": "stream",
     "text": [
      "Accuracy score: 0.9486404833836858\n"
     ]
    }
   ],
   "source": [
    "from sklearn.metrics import accuracy_score\n",
    "\n",
    "clf = KNeighborsClassifier(n_neighbors=neighbors_count).fit(X_train, y_train)\n",
    "y_test_my_result = clf.predict(X_test)\n",
    "\n",
    "\n",
    "accuracy_score_result = accuracy_score(y_true=y_test, y_pred=y_test_my_result)\n",
    "\n",
    "print('Accuracy score:', accuracy_score_result)"
   ]
  },
  {
   "cell_type": "markdown",
   "metadata": {},
   "source": [
    "Отметим, что accuracy сильно зависит от соотношения классов.\n",
    "\n",
    "#### Задача 1\n",
    "\n",
    "Допустим, что нам надо предсказать всех, кто погибнет. Критически нельзя пропустить пассажира и не предсказать ему смерть. Для этого воспользуемся метрикой recall = TP/(TP + FN). В таком случае задачу надо ставить так: recall -> 1, при precision не менее определенного значения. (Требование - предсказать ВСЕХ мертвых, не критично, если кто-то запишем в трупы, а он жив)"
   ]
  },
  {
   "cell_type": "code",
   "execution_count": 16,
   "metadata": {},
   "outputs": [
    {
     "name": "stdout",
     "output_type": "stream",
     "text": [
      "Recall score: 0.937007874015748\n"
     ]
    }
   ],
   "source": [
    "from sklearn.metrics import recall_score\n",
    "\n",
    "rec_score = recall_score(y_true=y_test, y_pred=y_test_my_result)\n",
    "\n",
    "print('Recall score:', rec_score)"
   ]
  },
  {
   "cell_type": "markdown",
   "metadata": {},
   "source": [
    "#### Задача 2\n",
    "\n",
    "Предположим другой вариант. Теперь нам у нас будет большая цена ошибки за предсказанную смерть живому челвоеку. (Допустим не хотим волновать ождающих родственников).В такой случае необходимо использовать precision = TP / (TP + FP)"
   ]
  },
  {
   "cell_type": "code",
   "execution_count": 17,
   "metadata": {},
   "outputs": [
    {
     "name": "stdout",
     "output_type": "stream",
     "text": [
      "Precision score: 0.9296875\n"
     ]
    }
   ],
   "source": [
    "from sklearn.metrics import precision_score\n",
    "\n",
    "prec_score = precision_score(y_true=y_test, y_pred=y_test_my_result)\n",
    "\n",
    "print('Precision score:', prec_score)"
   ]
  },
  {
   "cell_type": "markdown",
   "metadata": {},
   "source": [
    "Выбор метрики зависит от задачи заказчика. Для случаев представленных выше требуются разные метрики. Есть метрика которая учитывает precision и recall в одной формуле - F-мера:"
   ]
  },
  {
   "cell_type": "code",
   "execution_count": 18,
   "metadata": {},
   "outputs": [
    {
     "name": "stdout",
     "output_type": "stream",
     "text": [
      "F_score(B=0.5) 1.8622848200312987\n"
     ]
    }
   ],
   "source": [
    "\n",
    "B_parameter = 0.5\n",
    "\n",
    "F_score = (1 + B_parameter**2) * ( 2 * prec_score * rec_score) / (prec_score * B_parameter**2 + rec_score)\n",
    "\n",
    "print('F_score(B=0.5)', F_score)"
   ]
  },
  {
   "cell_type": "markdown",
   "metadata": {},
   "source": [
    "B_parameter принимает значения в диапазоне 0 < B_parameter < 1 если вы хотите отдать приоритет точности, а при B_parameter>1 приоритет отдается полноте"
   ]
  },
  {
   "cell_type": "markdown",
   "metadata": {},
   "source": [
    "### Вывод\n",
    "Был проведен визуальный анализ данных.Была сделана нормализация и просмотр данных на выбросы. Был использован Pipeline и Pickle для конвейерной обработки и сохранений данных. Для двух задач была выбрана и обоснована метрика. Наибольшее влияние на показатель метрики оказала нормализация данных."
   ]
  }
 ],
 "metadata": {
  "kernelspec": {
   "display_name": "Python 3",
   "language": "python",
   "name": "python3"
  },
  "language_info": {
   "codemirror_mode": {
    "name": "ipython",
    "version": 3
   },
   "file_extension": ".py",
   "mimetype": "text/x-python",
   "name": "python",
   "nbconvert_exporter": "python",
   "pygments_lexer": "ipython3",
   "version": "3.6.9"
  }
 },
 "nbformat": 4,
 "nbformat_minor": 4
}
