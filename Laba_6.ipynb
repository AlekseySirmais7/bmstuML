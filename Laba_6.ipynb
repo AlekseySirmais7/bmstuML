{
 "cells": [
  {
   "cell_type": "markdown",
   "metadata": {},
   "source": [
    "# Лабораторная работа 6"
   ]
  },
  {
   "cell_type": "markdown",
   "metadata": {},
   "source": [
    "Задачи:\n",
    "\n",
    "* Провести классификацию русских текстов на несколько категорий. Лучше большой текст\n",
    "* Провести предобработку текстов: нормализацию, лемматизацию и тд\n",
    "* Сравнить эмбеддинги\n",
    "* Попробовать несколько методов классификации (+косинусы)"
   ]
  },
  {
   "cell_type": "markdown",
   "metadata": {},
   "source": [
    "Будем использовать Войну и мир, Краткую историю всего"
   ]
  },
  {
   "cell_type": "code",
   "execution_count": 1,
   "metadata": {},
   "outputs": [],
   "source": [
    "# будем делить Войду и мир, Краткую историю всего на partsCount одинаковых частей\n",
    "partsCount = 400\n",
    "myTestSize = 0.2\n",
    "\n",
    "textDir = \"/home/alex/Downloads/bmstuML/texts/\"\n",
    "\n",
    "warFile = textDir + \"voina_i_mir.txt\"\n",
    "\n",
    "istoriaFile = textDir + \"kratkaya.txt\"\n",
    "\n",
    "\n",
    "with open(warFile, encoding=\"utf8\") as f:\n",
    "    war_text = f.read()\n",
    "    \n",
    "with open(istoriaFile, encoding=\"utf8\") as f:\n",
    "    istoria_text = f.read()"
   ]
  },
  {
   "cell_type": "code",
   "execution_count": 2,
   "metadata": {},
   "outputs": [
    {
     "data": {
      "text/plain": [
       "'\\n\\nЛев Толстой\\n\\nВойна и мир\\n\\nТома первый и второй\\n\\n\\n\\nВ.\\xa0Шкловский «Война и мир» Льва Толстого\\n\\n\\nЗамысел\\n\\nВ 1855 году появилось объявление об издании «Полярной звезды». На обложке книги в круге восходящего солнца были изображены пять портретов казненных декабристов; под портретами топор и подписано: «'"
      ]
     },
     "execution_count": 2,
     "metadata": {},
     "output_type": "execute_result"
    }
   ],
   "source": [
    "war_text[:300]"
   ]
  },
  {
   "cell_type": "code",
   "execution_count": 3,
   "metadata": {},
   "outputs": [
    {
     "data": {
      "text/plain": [
       "'\\n«Краткая история почти всего на свете» Билла Брайсона — самая необычная энциклопедия из всех существующих! И это первая книга, которой была присуждена престижная европейская премия за вклад в развитие мировой науки имени Рене Декарта.\\n\\n\\n\\nСейчас, в начале 2003 года, я держу перед собой несколько стр'"
      ]
     },
     "execution_count": 3,
     "metadata": {},
     "output_type": "execute_result"
    }
   ],
   "source": [
    "istoria_text[:300]"
   ]
  },
  {
   "cell_type": "markdown",
   "metadata": {},
   "source": [
    "### Токенизация\n",
    "\n",
    "Выделим из текстов отдельные слова. Удалим ненужные \"слова\" (знаки препинания, лишние символы)\n"
   ]
  },
  {
   "cell_type": "code",
   "execution_count": 4,
   "metadata": {},
   "outputs": [
    {
     "name": "stderr",
     "output_type": "stream",
     "text": [
      "[nltk_data] Downloading package punkt to /home/alex/nltk_data...\n",
      "[nltk_data]   Package punkt is already up-to-date!\n"
     ]
    },
    {
     "data": {
      "text/plain": [
       "['Лев',\n",
       " 'Толстой',\n",
       " 'Война',\n",
       " 'и',\n",
       " 'мир',\n",
       " 'Тома',\n",
       " 'первый',\n",
       " 'и',\n",
       " 'второй',\n",
       " 'В.',\n",
       " 'Шкловский',\n",
       " '«',\n",
       " 'Война',\n",
       " 'и',\n",
       " 'мир']"
      ]
     },
     "execution_count": 4,
     "metadata": {},
     "output_type": "execute_result"
    }
   ],
   "source": [
    "import nltk\n",
    "\n",
    "nltk.download(\"punkt\")\n",
    "war_tokens = nltk.word_tokenize(war_text)\n",
    "\n",
    "war_tokens[:15]"
   ]
  },
  {
   "cell_type": "code",
   "execution_count": 5,
   "metadata": {},
   "outputs": [
    {
     "data": {
      "text/plain": [
       "['«',\n",
       " 'Краткая',\n",
       " 'история',\n",
       " 'почти',\n",
       " 'всего',\n",
       " 'на',\n",
       " 'свете',\n",
       " '»',\n",
       " 'Билла',\n",
       " 'Брайсона',\n",
       " '—',\n",
       " 'самая',\n",
       " 'необычная',\n",
       " 'энциклопедия',\n",
       " 'из']"
      ]
     },
     "execution_count": 5,
     "metadata": {},
     "output_type": "execute_result"
    }
   ],
   "source": [
    "# второй текст\n",
    "istoria_tokens = nltk.word_tokenize(istoria_text)\n",
    "\n",
    "istoria_tokens[:15]"
   ]
  },
  {
   "cell_type": "code",
   "execution_count": 6,
   "metadata": {},
   "outputs": [
    {
     "data": {
      "text/plain": [
       "['лев', 'толст', 'войн', 'и', 'мир', 'том', 'перв', 'и', 'втор', 'в.']"
      ]
     },
     "execution_count": 6,
     "metadata": {},
     "output_type": "execute_result"
    }
   ],
   "source": [
    "from snowballstemmer import RussianStemmer\n",
    "stemmer = RussianStemmer()\n",
    "stemmerResult = stemmer.stemWords(war_text.lower().split())\n",
    "\n",
    "stemmerResult[:10]\n"
   ]
  },
  {
   "cell_type": "markdown",
   "metadata": {},
   "source": [
    "Как видим, слова получились \"кривыми\", простое обрезание окончания - не вариант. Воспользуемся лемматизатором."
   ]
  },
  {
   "cell_type": "code",
   "execution_count": 7,
   "metadata": {},
   "outputs": [],
   "source": [
    "import pymystem3\n",
    "\n",
    "mystem = pymystem3.Mystem()\n",
    "\n",
    "war_lemm = mystem.lemmatize(\" \".join(war_tokens))\n",
    "\n",
    "istoria_lemm = mystem.lemmatize(\" \".join(istoria_tokens))\n",
    "\n"
   ]
  },
  {
   "cell_type": "code",
   "execution_count": 8,
   "metadata": {},
   "outputs": [
    {
     "data": {
      "text/plain": [
       "['лев', ' ', 'толстой', ' ', 'война', ' ', 'и', ' ', 'мир', ' ']"
      ]
     },
     "execution_count": 8,
     "metadata": {},
     "output_type": "execute_result"
    }
   ],
   "source": [
    "war_lemm[:10]"
   ]
  },
  {
   "cell_type": "code",
   "execution_count": 9,
   "metadata": {},
   "outputs": [
    {
     "data": {
      "text/plain": [
       "['« ', 'краткий', ' ', 'история', ' ', 'почти', ' ', 'все', ' ', 'на']"
      ]
     },
     "execution_count": 9,
     "metadata": {},
     "output_type": "execute_result"
    }
   ],
   "source": [
    "istoria_lemm[:10]"
   ]
  },
  {
   "cell_type": "markdown",
   "metadata": {},
   "source": [
    "Посмотрим на морфологический анализ слов."
   ]
  },
  {
   "cell_type": "code",
   "execution_count": 10,
   "metadata": {},
   "outputs": [
    {
     "data": {
      "text/plain": [
       "[Parse(word='свет', tag=OpencorporaTag('NOUN,inan,masc,Sgtm sing,nomn'), normal_form='свет', score=0.51923, methods_stack=((DictionaryAnalyzer(), 'свет', 557, 0),)),\n",
       " Parse(word='свет', tag=OpencorporaTag('NOUN,inan,masc,Sgtm sing,accs'), normal_form='свет', score=0.423076, methods_stack=((DictionaryAnalyzer(), 'свет', 557, 4),)),\n",
       " Parse(word='свет', tag=OpencorporaTag('NOUN,anim,femn,Name plur,gent'), normal_form='света', score=0.01923, methods_stack=((DictionaryAnalyzer(), 'свет', 237, 8),)),\n",
       " Parse(word='свет', tag=OpencorporaTag('NOUN,anim,femn,Name plur,accs'), normal_form='света', score=0.01923, methods_stack=((DictionaryAnalyzer(), 'свет', 237, 10),)),\n",
       " Parse(word='свет', tag=OpencorporaTag('NOUN,anim,femn,Name sing,voct,Infr'), normal_form='света', score=0.01923, methods_stack=((DictionaryAnalyzer(), 'свет', 237, 13),))]"
      ]
     },
     "execution_count": 10,
     "metadata": {},
     "output_type": "execute_result"
    }
   ],
   "source": [
    "import pymorphy2\n",
    "morph = pymorphy2.MorphAnalyzer()\n",
    "morph.parse(\"свет\")"
   ]
  },
  {
   "cell_type": "code",
   "execution_count": 11,
   "metadata": {},
   "outputs": [],
   "source": [
    "# Удалим знаки, пустые слова, числа\n",
    "\n",
    "bad_chars = [\"«\", \"»\",\".\",\",\",\"—\",\":\",\"1\",\"2\",\"3\",\"4\",\"5\",\"6\",\"7\",\"8\",\"9\",\"0\",\"?\",\"-\",\"[\",\"]\", \"стр\", \"(\", \")\",\n",
    "            \";\", \"X\", \"!\", \"издание\", \"…\", \"’\",\"&\"]\n",
    "\n",
    "def containsStr(a,b):\n",
    "    for i in b:\n",
    "        if i in a:\n",
    "            return True\n",
    "    return False\n",
    "\n",
    "def deleteWords(wordList):\n",
    "    resultList = [item for item in wordList if len(item) > 1 ]\n",
    "    resultList = [item for item in resultList if not containsStr(item, bad_chars) ]\n",
    "    return resultList\n",
    "\n",
    "\n",
    "\n",
    "war_lemm_clear = deleteWords(war_lemm)\n",
    "\n",
    "istoria_lemm_clear = deleteWords(istoria_lemm)\n"
   ]
  },
  {
   "cell_type": "code",
   "execution_count": 12,
   "metadata": {
    "scrolled": false
   },
   "outputs": [
    {
     "data": {
      "text/plain": [
       "['лев',\n",
       " 'толстой',\n",
       " 'война',\n",
       " 'мир',\n",
       " 'том',\n",
       " 'первый',\n",
       " 'второй',\n",
       " 'шкловский',\n",
       " 'война',\n",
       " 'мир']"
      ]
     },
     "execution_count": 12,
     "metadata": {},
     "output_type": "execute_result"
    }
   ],
   "source": [
    "war_lemm_clear[:10]"
   ]
  },
  {
   "cell_type": "code",
   "execution_count": 13,
   "metadata": {},
   "outputs": [
    {
     "data": {
      "text/plain": [
       "['краткий',\n",
       " 'история',\n",
       " 'почти',\n",
       " 'все',\n",
       " 'на',\n",
       " 'свет',\n",
       " 'билл',\n",
       " 'брайсон',\n",
       " 'самый',\n",
       " 'необычный']"
      ]
     },
     "execution_count": 13,
     "metadata": {},
     "output_type": "execute_result"
    }
   ],
   "source": [
    "istoria_lemm_clear[:10]"
   ]
  },
  {
   "cell_type": "code",
   "execution_count": 14,
   "metadata": {},
   "outputs": [],
   "source": [
    "war_text_clear = \" \".join(war_lemm_clear)\n",
    "istoria_text_clear = \" \".join(istoria_lemm_clear)"
   ]
  },
  {
   "cell_type": "code",
   "execution_count": 15,
   "metadata": {},
   "outputs": [
    {
     "data": {
      "text/plain": [
       "'лев толстой война мир том первый второй шкловский война мир лев толстой замысел год появляться объявление об полярный звезда на обложка книга круг восходить солнце быть изображать пять портрет казнить декабрист под портрет топор подписывать июль год том помечать день казнь декабрист над заглавие туч'"
      ]
     },
     "execution_count": 15,
     "metadata": {},
     "output_type": "execute_result"
    }
   ],
   "source": [
    "war_text_clear[:300]"
   ]
  },
  {
   "cell_type": "code",
   "execution_count": 16,
   "metadata": {},
   "outputs": [],
   "source": [
    "# сохраним текста\n",
    "\n",
    "# with open(textDir+ '1.txt', 'w') as file:\n",
    "#     file.write(war_text_clear)\n",
    "    \n",
    "# with open(textDir+ '2.txt', 'w') as file:\n",
    "#     file.write(istoria_text_clear)  \n"
   ]
  },
  {
   "cell_type": "code",
   "execution_count": 17,
   "metadata": {},
   "outputs": [],
   "source": [
    "# функция разделения на части\n",
    "def chunkify(lst,n):\n",
    "    return [lst[i::n] for i in range(n)]"
   ]
  },
  {
   "cell_type": "code",
   "execution_count": 18,
   "metadata": {},
   "outputs": [],
   "source": [
    "from string import punctuation\n",
    "\n",
    "# def lemmatize(input_text):\n",
    "#     tokens = nltk.word_tokenize(input_text)\n",
    "#     normed_tokens = [morph.parse(s)[0].normal_form for s in tokens]\n",
    "#     # исключии стоп слова\n",
    "#     normed_tokens = deleteWords(normed_tokens)\n",
    "#     return ' '.join(normed_tokens)"
   ]
  },
  {
   "cell_type": "code",
   "execution_count": 19,
   "metadata": {},
   "outputs": [],
   "source": [
    "import os\n",
    "import pandas as pd\n",
    "import numpy as np\n",
    "\n",
    "\n",
    "# # nogroToByM uycTow naTtadpevim\n",
    "# df = pd.DataFrame(columns=['text', 'class'])\n",
    "\n",
    "# dir0 = textDir + \"/0\"\n",
    "# dir1 = textDir + \"/1\"\n",
    "\n",
    "# for filename in os.listdir(dir0) :\n",
    "#     with open(os.path.join(dir0, filename), encoding='utf8') as file:\n",
    "#         contents = lemmatize(file.read())\n",
    "\n",
    "#     df = df.append(pd.Series({'text': contents, 'class': 0}), ignore_index=True)\n",
    "\n"
   ]
  },
  {
   "cell_type": "code",
   "execution_count": 20,
   "metadata": {},
   "outputs": [],
   "source": [
    "\n",
    "# for filename in os.listdir(dir1) :\n",
    "#     with open(os.path.join(dir1, filename), encoding='utf8') as file:\n",
    "#         contents = lemmatize(file.read())\n",
    "\n",
    "#     df = df.append(pd.Series({'text': contents, 'class': 1}), ignore_index=True)"
   ]
  },
  {
   "cell_type": "code",
   "execution_count": 21,
   "metadata": {},
   "outputs": [
    {
     "data": {
      "text/plain": [
       "['история',\n",
       " 'флэннерить',\n",
       " 'точно',\n",
       " 'яйцо',\n",
       " 'же',\n",
       " 'помогать',\n",
       " 'содержать',\n",
       " 'как',\n",
       " 'шестидесятый',\n",
       " 'ускоритель']"
      ]
     },
     "execution_count": 21,
     "metadata": {},
     "output_type": "execute_result"
    }
   ],
   "source": [
    "\n",
    "war_parts = chunkify(war_lemm_clear, partsCount)\n",
    "istoria_parts = chunkify(istoria_lemm_clear, partsCount)\n",
    "\n",
    "istoria_parts[1][:10]"
   ]
  },
  {
   "cell_type": "code",
   "execution_count": 22,
   "metadata": {},
   "outputs": [],
   "source": [
    "# объединяем слова в частях\n",
    "# на выходе - список из текстов\n",
    "def joinWordsToTextList(wordsLists):\n",
    "    result = []\n",
    "    for i in wordsLists:\n",
    "        oneText = \" \".join(i)\n",
    "        result.append(oneText)\n",
    "    return result\n",
    "\n",
    "\n",
    "war_texts = joinWordsToTextList(war_parts)\n",
    "istoria_texts = joinWordsToTextList(istoria_parts)"
   ]
  },
  {
   "cell_type": "code",
   "execution_count": 23,
   "metadata": {},
   "outputs": [],
   "source": [
    "# war_texts[1][:300]"
   ]
  },
  {
   "cell_type": "code",
   "execution_count": 24,
   "metadata": {},
   "outputs": [
    {
     "name": "stdout",
     "output_type": "stream",
     "text": [
      "war_texts size:3496 \tistoria_text size:2585\n"
     ]
    }
   ],
   "source": [
    "df = pd.DataFrame(columns=[\"text\",\"class\"])\n",
    "\n",
    "\n",
    "for i in war_texts:\n",
    "    df = df.append(pd.Series({\"text\":i, \"class\":0}), ignore_index=True)\n",
    "\n",
    "# у второго типа текстов класс == 1\n",
    "for i in istoria_texts:\n",
    "    df = df.append(pd.Series({\"text\":i, \"class\":1}), ignore_index=True)\n",
    "    \n",
    "\n",
    "print(\"war_texts size:\"+str(len(war_texts[3])), \"\\tistoria_text size:\"+str(len(istoria_texts[3])))\n"
   ]
  },
  {
   "cell_type": "code",
   "execution_count": 25,
   "metadata": {},
   "outputs": [
    {
     "data": {
      "text/html": [
       "<div>\n",
       "<style scoped>\n",
       "    .dataframe tbody tr th:only-of-type {\n",
       "        vertical-align: middle;\n",
       "    }\n",
       "\n",
       "    .dataframe tbody tr th {\n",
       "        vertical-align: top;\n",
       "    }\n",
       "\n",
       "    .dataframe thead th {\n",
       "        text-align: right;\n",
       "    }\n",
       "</style>\n",
       "<table border=\"1\" class=\"dataframe\">\n",
       "  <thead>\n",
       "    <tr style=\"text-align: right;\">\n",
       "      <th></th>\n",
       "      <th>text</th>\n",
       "      <th>class</th>\n",
       "    </tr>\n",
       "  </thead>\n",
       "  <tbody>\n",
       "    <tr>\n",
       "      <th>0</th>\n",
       "      <td>лев приобретать понимать состоять под как нет ...</td>\n",
       "      <td>0</td>\n",
       "    </tr>\n",
       "    <tr>\n",
       "      <th>1</th>\n",
       "      <td>толстой он сила только влияние бы мать борьба ...</td>\n",
       "      <td>0</td>\n",
       "    </tr>\n",
       "    <tr>\n",
       "      <th>2</th>\n",
       "      <td>война великий народ то исторический смерть тол...</td>\n",
       "      <td>0</td>\n",
       "    </tr>\n",
       "    <tr>\n",
       "      <th>3</th>\n",
       "      <td>мир слава слабость что событие она конец помощ...</td>\n",
       "      <td>0</td>\n",
       "    </tr>\n",
       "    <tr>\n",
       "      <th>4</th>\n",
       "      <td>том который декабрист мы война новый давать не...</td>\n",
       "      <td>0</td>\n",
       "    </tr>\n",
       "    <tr>\n",
       "      <th>...</th>\n",
       "      <td>...</td>\n",
       "      <td>...</td>\n",
       "    </tr>\n",
       "    <tr>\n",
       "      <th>795</th>\n",
       "      <td>рич куча отращивать добела предполагать малень...</td>\n",
       "      <td>1</td>\n",
       "    </tr>\n",
       "    <tr>\n",
       "      <th>796</th>\n",
       "      <td>из создавать плавник шар что что склоняться от...</td>\n",
       "      <td>1</td>\n",
       "    </tr>\n",
       "    <tr>\n",
       "      <th>797</th>\n",
       "      <td>музей живой конечность из мочь крошечный велич...</td>\n",
       "      <td>1</td>\n",
       "    </tr>\n",
       "    <tr>\n",
       "      <th>798</th>\n",
       "      <td>штат существо щеголять железо сам точка млрд б...</td>\n",
       "      <td>1</td>\n",
       "    </tr>\n",
       "    <tr>\n",
       "      <th>799</th>\n",
       "      <td>виктория на крыло никель этот над год обнаружи...</td>\n",
       "      <td>1</td>\n",
       "    </tr>\n",
       "  </tbody>\n",
       "</table>\n",
       "<p>800 rows × 2 columns</p>\n",
       "</div>"
      ],
      "text/plain": [
       "                                                  text class\n",
       "0    лев приобретать понимать состоять под как нет ...     0\n",
       "1    толстой он сила только влияние бы мать борьба ...     0\n",
       "2    война великий народ то исторический смерть тол...     0\n",
       "3    мир слава слабость что событие она конец помощ...     0\n",
       "4    том который декабрист мы война новый давать не...     0\n",
       "..                                                 ...   ...\n",
       "795  рич куча отращивать добела предполагать малень...     1\n",
       "796  из создавать плавник шар что что склоняться от...     1\n",
       "797  музей живой конечность из мочь крошечный велич...     1\n",
       "798  штат существо щеголять железо сам точка млрд б...     1\n",
       "799  виктория на крыло никель этот над год обнаружи...     1\n",
       "\n",
       "[800 rows x 2 columns]"
      ]
     },
     "execution_count": 25,
     "metadata": {},
     "output_type": "execute_result"
    }
   ],
   "source": [
    "df"
   ]
  },
  {
   "cell_type": "code",
   "execution_count": 26,
   "metadata": {},
   "outputs": [],
   "source": [
    "# разбив на трейн и тест\n",
    "from sklearn.model_selection import train_test_split\n",
    "\n",
    "X_train, X_test, y_train, y_test = train_test_split(df[\"text\"], df[\"class\"], test_size=myTestSize, random_state=42)"
   ]
  },
  {
   "cell_type": "code",
   "execution_count": 27,
   "metadata": {},
   "outputs": [
    {
     "data": {
      "text/plain": [
       "264    хотеть год роман отражение андрей тот один сил...\n",
       "615    естественный небольшой век этот все размышлени...\n",
       "329    стиль быть история осуществляться взятка котор...\n",
       "342    восторг причем думать выражать как становиться...\n",
       "394    севастополь пьер не не пьер хотеть портфель ко...\n",
       "                             ...                        \n",
       "71     свой николай эпоха все герой любовь роман умол...\n",
       "106    весь наташа уже описывать выглядеть роман суд ...\n",
       "270    так больший что положение гореть чтобы последо...\n",
       "435    перед зеландия другой эволюция что неприятно и...\n",
       "102    полярный это этот мир четкость конфликт жизнь ...\n",
       "Name: text, Length: 640, dtype: object"
      ]
     },
     "execution_count": 27,
     "metadata": {},
     "output_type": "execute_result"
    }
   ],
   "source": [
    "X_train"
   ]
  },
  {
   "cell_type": "code",
   "execution_count": 28,
   "metadata": {},
   "outputs": [
    {
     "data": {
      "text/plain": [
       "696    национальный быть что просто самый знание прав...\n",
       "667    штат что курьезность послужить область уйма об...\n",
       "63     как для наполеоновский бы во роман оливер скор...\n",
       "533    этот мочь наполняться вознаграждать содержать ...\n",
       "66     свой пьер нестарый отсутствие счастие реалисти...\n",
       "                             ...                        \n",
       "589    лондон действие тот сочетание часть находиться...\n",
       "798    штат существо щеголять железо сам точка млрд б...\n",
       "744    даллас или из собственный что направление мате...\n",
       "513    здесь поздравлять атом все здоровый мой столь ...\n",
       "670    оффенбур приниматься что он оставаться вопрос ...\n",
       "Name: text, Length: 160, dtype: object"
      ]
     },
     "execution_count": 28,
     "metadata": {},
     "output_type": "execute_result"
    }
   ],
   "source": [
    "X_test"
   ]
  },
  {
   "cell_type": "markdown",
   "metadata": {},
   "source": [
    "## Bag-of-Words-эмбеддинг\n",
    "на всех данных обучние - чтоб все слова были учтены?"
   ]
  },
  {
   "cell_type": "code",
   "execution_count": 29,
   "metadata": {},
   "outputs": [],
   "source": [
    "from sklearn.feature_extraction.text import CountVectorizer\n",
    "\n",
    "bof_vect = CountVectorizer()\n",
    "bof_vect.fit(np.hstack([X_train, X_test]))\n",
    "bof_train = bof_vect.transform(X_train)\n",
    "bof_test = bof_vect.transform(X_test)"
   ]
  },
  {
   "cell_type": "code",
   "execution_count": 30,
   "metadata": {},
   "outputs": [
    {
     "data": {
      "text/plain": [
       "array([[0, 0, 0, ..., 0, 0, 0],\n",
       "       [0, 0, 0, ..., 0, 0, 0],\n",
       "       [0, 0, 0, ..., 0, 0, 0],\n",
       "       ...,\n",
       "       [0, 0, 0, ..., 0, 0, 0],\n",
       "       [0, 0, 0, ..., 1, 0, 0],\n",
       "       [0, 0, 0, ..., 0, 0, 0]])"
      ]
     },
     "execution_count": 30,
     "metadata": {},
     "output_type": "execute_result"
    }
   ],
   "source": [
    "# пространство признаков\n",
    "\n",
    "bof_train.toarray()"
   ]
  },
  {
   "cell_type": "code",
   "execution_count": 31,
   "metadata": {},
   "outputs": [
    {
     "data": {
      "text/plain": [
       "(640, 23015)"
      ]
     },
     "execution_count": 31,
     "metadata": {},
     "output_type": "execute_result"
    }
   ],
   "source": [
    "bof_train.toarray().shape"
   ]
  },
  {
   "cell_type": "markdown",
   "metadata": {},
   "source": [
    "## TF-IDF-Эмбеддинг"
   ]
  },
  {
   "cell_type": "code",
   "execution_count": 32,
   "metadata": {},
   "outputs": [],
   "source": [
    "from sklearn.feature_extraction.text import TfidfVectorizer\n",
    "\n",
    "tfidf_vect = TfidfVectorizer()\n",
    "tfidf_vect.fit(np.hstack([X_train, X_test]))\n",
    "tfidf_train = tfidf_vect.transform(X_train)\n",
    "tfidf_test = tfidf_vect.transform(X_test)"
   ]
  },
  {
   "cell_type": "code",
   "execution_count": 33,
   "metadata": {},
   "outputs": [
    {
     "data": {
      "text/plain": [
       "array([[0.        , 0.        , 0.        , ..., 0.        , 0.        ,\n",
       "        0.        ],\n",
       "       [0.        , 0.        , 0.        , ..., 0.        , 0.        ,\n",
       "        0.        ],\n",
       "       [0.        , 0.        , 0.        , ..., 0.        , 0.        ,\n",
       "        0.        ],\n",
       "       ...,\n",
       "       [0.        , 0.        , 0.        , ..., 0.        , 0.        ,\n",
       "        0.        ],\n",
       "       [0.        , 0.        , 0.        , ..., 0.05868196, 0.        ,\n",
       "        0.        ],\n",
       "       [0.        , 0.        , 0.        , ..., 0.        , 0.        ,\n",
       "        0.        ]])"
      ]
     },
     "execution_count": 33,
     "metadata": {},
     "output_type": "execute_result"
    }
   ],
   "source": [
    "tfidf_train.toarray()"
   ]
  },
  {
   "cell_type": "code",
   "execution_count": 34,
   "metadata": {},
   "outputs": [
    {
     "data": {
      "text/plain": [
       "(640, 23015)"
      ]
     },
     "execution_count": 34,
     "metadata": {},
     "output_type": "execute_result"
    }
   ],
   "source": [
    "tfidf_train.toarray().shape"
   ]
  },
  {
   "cell_type": "markdown",
   "metadata": {},
   "source": [
    "## Word2vec-эмбеддинг\n",
    "Немного другой формат данных"
   ]
  },
  {
   "cell_type": "code",
   "execution_count": 35,
   "metadata": {},
   "outputs": [],
   "source": [
    "from gensim.models import Word2Vec\n",
    "\n",
    "X_train_w2v = X_train.apply(str.split)\n",
    "X_test_w2v = X_test.apply(str.split)\n",
    "w2v_vect = Word2Vec(np.hstack([X_train_w2v, X_test_w2v]), size=160, min_count=10)"
   ]
  },
  {
   "cell_type": "code",
   "execution_count": 36,
   "metadata": {},
   "outputs": [
    {
     "data": {
      "text/plain": [
       "264    [хотеть, год, роман, отражение, андрей, тот, о...\n",
       "615    [естественный, небольшой, век, этот, все, разм...\n",
       "329    [стиль, быть, история, осуществляться, взятка,...\n",
       "342    [восторг, причем, думать, выражать, как, стано...\n",
       "394    [севастополь, пьер, не, не, пьер, хотеть, порт...\n",
       "                             ...                        \n",
       "71     [свой, николай, эпоха, все, герой, любовь, ром...\n",
       "106    [весь, наташа, уже, описывать, выглядеть, рома...\n",
       "270    [так, больший, что, положение, гореть, чтобы, ...\n",
       "435    [перед, зеландия, другой, эволюция, что, непри...\n",
       "102    [полярный, это, этот, мир, четкость, конфликт,...\n",
       "Name: text, Length: 640, dtype: object"
      ]
     },
     "execution_count": 36,
     "metadata": {},
     "output_type": "execute_result"
    }
   ],
   "source": [
    "X_train_w2v"
   ]
  },
  {
   "cell_type": "code",
   "execution_count": 37,
   "metadata": {},
   "outputs": [
    {
     "name": "stderr",
     "output_type": "stream",
     "text": [
      "/home/alex/.local/lib/python3.6/site-packages/ipykernel_launcher.py:1: DeprecationWarning: Call to deprecated `most_similar` (Method will be removed in 4.0.0, use self.wv.most_similar() instead).\n",
      "  \"\"\"Entry point for launching an IPython kernel.\n"
     ]
    },
    {
     "data": {
      "text/plain": [
       "[('земля', 0.994452178478241),\n",
       " ('если', 0.9804226160049438),\n",
       " ('более', 0.9537423849105835),\n",
       " ('вид', 0.95137619972229),\n",
       " ('до', 0.9465329647064209),\n",
       " ('мы', 0.9456946849822998),\n",
       " ('почти', 0.9454933404922485),\n",
       " ('существо', 0.9408680200576782),\n",
       " ('даже', 0.9307500720024109),\n",
       " ('теория', 0.9291499853134155)]"
      ]
     },
     "execution_count": 37,
     "metadata": {},
     "output_type": "execute_result"
    }
   ],
   "source": [
    "w2v_vect.most_similar(positive=\"год\")"
   ]
  },
  {
   "cell_type": "code",
   "execution_count": 38,
   "metadata": {},
   "outputs": [
    {
     "name": "stderr",
     "output_type": "stream",
     "text": [
      "/home/alex/.local/lib/python3.6/site-packages/ipykernel_launcher.py:1: DeprecationWarning: Call to deprecated `most_similar` (Method will be removed in 4.0.0, use self.wv.most_similar() instead).\n",
      "  \"\"\"Entry point for launching an IPython kernel.\n"
     ]
    },
    {
     "data": {
      "text/plain": [
       "[('наташа', 0.1432594656944275),\n",
       " ('князь', 0.1377580165863037),\n",
       " ('сказать', 0.13043634593486786),\n",
       " ('пьер', 0.126048743724823),\n",
       " ('ты', 0.12202136963605881),\n",
       " ('андрей', 0.08237704634666443),\n",
       " ('лицо', 0.07011778652667999),\n",
       " ('она', 0.06154355779290199),\n",
       " ('рука', 0.06011829525232315),\n",
       " ('ростов', 0.03334119915962219)]"
      ]
     },
     "execution_count": 38,
     "metadata": {},
     "output_type": "execute_result"
    }
   ],
   "source": [
    "w2v_vect.most_similar(negative=[\"существо\"])"
   ]
  },
  {
   "cell_type": "code",
   "execution_count": 39,
   "metadata": {},
   "outputs": [
    {
     "name": "stderr",
     "output_type": "stream",
     "text": [
      "/home/alex/.local/lib/python3.6/site-packages/ipykernel_launcher.py:2: DeprecationWarning: Call to deprecated `__getitem__` (Method will be removed in 4.0.0, use self.wv.__getitem__() instead).\n",
      "  \n"
     ]
    },
    {
     "data": {
      "text/plain": [
       "array([ 3.42812926e-01,  2.74854898e-01,  7.32861757e-01, -2.26159453e-01,\n",
       "        4.64013904e-01,  1.35841340e-01,  3.00892387e-02, -4.61677462e-01,\n",
       "        2.99955845e-01,  4.15160090e-01,  7.80508593e-02,  3.23725998e-01,\n",
       "        1.57741476e-02, -2.57165492e-01,  4.42336768e-01, -2.57141918e-01,\n",
       "        2.94350851e-02, -1.69411659e-01, -5.18723130e-02,  2.66495168e-01,\n",
       "        2.38380045e-01,  4.74442005e-01, -2.06381068e-01,  2.50668943e-01,\n",
       "        3.78655225e-01,  4.92328942e-01,  1.03291444e-01, -6.21899106e-02,\n",
       "       -5.14974952e-01,  3.63728046e-01, -1.58939362e-02,  2.39748597e-01,\n",
       "        3.53962749e-01,  1.82292864e-01,  9.55085680e-02, -3.00233006e-01,\n",
       "        5.50114810e-02,  1.42947957e-01, -2.81094640e-01,  4.38040316e-01,\n",
       "        2.52940595e-01, -4.41990316e-01, -1.28391415e-01, -1.02178849e-01,\n",
       "        1.83976829e-01,  1.18860699e-01, -3.78091305e-01,  5.18745542e-01,\n",
       "        1.59270510e-01, -1.70521989e-01, -1.04986422e-01, -3.68755907e-01,\n",
       "        1.74816802e-01,  4.14572626e-01,  2.21691981e-01, -7.39636779e-01,\n",
       "        3.15637082e-01, -3.15499365e-01, -2.63542622e-01, -4.33157057e-01,\n",
       "        5.22516556e-02,  8.15655477e-03, -3.37454826e-01, -1.39387846e-01,\n",
       "        4.80773002e-01,  6.82393551e-01, -7.02437833e-02,  2.91383654e-01,\n",
       "       -2.19382033e-01,  3.23206097e-01, -1.58806130e-01,  1.53532684e-01,\n",
       "       -5.88276349e-02,  6.32473052e-01, -7.61549652e-01,  1.12529266e+00,\n",
       "       -1.53785884e-01,  2.40081012e-01,  4.03991431e-01, -7.77715060e-04,\n",
       "       -8.01719189e-01,  4.12334591e-01, -1.60320744e-01,  3.45728904e-01,\n",
       "        6.05360642e-02,  1.20587416e-01,  3.34345624e-02, -2.82513767e-01,\n",
       "       -4.35735881e-02,  3.91044199e-01,  1.45037532e-01, -2.18619704e-02,\n",
       "        5.51557541e-01, -4.51373518e-01,  2.52333045e-01,  4.01742727e-01,\n",
       "        3.12525660e-01, -6.48804247e-01, -1.71543360e-01,  3.38618189e-01,\n",
       "        2.46573873e-02,  4.94607210e-01,  4.44622338e-01,  5.25852799e-01,\n",
       "        1.14723071e-01, -4.02942330e-01,  1.64543450e-01, -9.67987776e-02,\n",
       "        2.69544482e-01,  6.27206862e-01,  4.32811141e-01, -3.45692076e-02,\n",
       "        7.06778526e-01, -2.43752688e-01, -6.55269325e-01,  9.58649963e-02,\n",
       "       -1.18646480e-01, -3.94015402e-01,  8.29422623e-02,  3.55762213e-01,\n",
       "        4.12000328e-01, -8.43739361e-02, -5.20556331e-01,  4.21866119e-01,\n",
       "       -9.27495003e-01,  4.81756777e-01, -2.14323461e-01, -1.09145117e+00,\n",
       "       -9.45425481e-02,  4.47021961e-01,  5.16454697e-01, -9.27011073e-01,\n",
       "       -2.03282461e-01,  8.86333585e-01, -5.73710613e-02,  8.97501051e-01,\n",
       "        5.14545918e-01,  4.62282263e-02,  1.39887661e-01,  1.87405765e-01,\n",
       "       -2.53287733e-01, -5.57709754e-01,  2.23193243e-01,  9.87245381e-01,\n",
       "        3.99127156e-01, -1.84342086e-01,  1.85889266e-02, -2.39880711e-01,\n",
       "        2.58246303e-01,  4.10240829e-01, -6.81473851e-01, -7.70397604e-01,\n",
       "        3.94707084e-01,  7.25336194e-01, -2.41835117e-01, -6.14344403e-02,\n",
       "        1.72335893e-01, -7.25692749e-01,  3.72288465e-01,  8.65520462e-02],\n",
       "      dtype=float32)"
      ]
     },
     "execution_count": 39,
     "metadata": {},
     "output_type": "execute_result"
    }
   ],
   "source": [
    "# как представлено слово земля\n",
    "w2v_vect[\"земля\"]"
   ]
  },
  {
   "cell_type": "code",
   "execution_count": 40,
   "metadata": {},
   "outputs": [
    {
     "name": "stderr",
     "output_type": "stream",
     "text": [
      "/home/alex/.local/lib/python3.6/site-packages/ipykernel_launcher.py:6: DeprecationWarning: Call to deprecated `__getitem__` (Method will be removed in 4.0.0, use self.wv.__getitem__() instead).\n",
      "  \n"
     ]
    },
    {
     "data": {
      "text/plain": [
       "264    [0.06856898, -0.016876651, -0.07560475, 0.2633...\n",
       "615    [0.1264682, 0.05371449, 0.122785605, 0.1236977...\n",
       "329    [0.06822454, -0.017281411, -0.07702193, 0.2645...\n",
       "342    [0.060258012, -0.026934361, -0.104194924, 0.28...\n",
       "394    [0.062748395, -0.024182867, -0.09632578, 0.278...\n",
       "                             ...                        \n",
       "71     [0.06734159, -0.019758362, -0.084410906, 0.272...\n",
       "106    [0.065937005, -0.018976681, -0.08194187, 0.265...\n",
       "270    [0.06299332, -0.022997733, -0.0934749, 0.27492...\n",
       "435    [0.12400533, 0.05167083, 0.11587055, 0.1252976...\n",
       "102    [0.07023839, -0.014818016, -0.070251636, 0.259...\n",
       "Name: text, Length: 640, dtype: object"
      ]
     },
     "execution_count": 40,
     "metadata": {},
     "output_type": "execute_result"
    }
   ],
   "source": [
    "# усредним векторы слов\n",
    "def text2vec(text):\n",
    "    vecs = []\n",
    "    for word in text:\n",
    "        try:\n",
    "            vecs.append(w2v_vect[word])\n",
    "        except KeyError:\n",
    "            pass\n",
    "    return np.sum(vecs, axis=0) / len(vecs)\n",
    "\n",
    "    \n",
    "    \n",
    "w2v_train = X_train_w2v.apply(text2vec)\n",
    "w2v_test = X_test_w2v.apply(text2vec)\n",
    "\n",
    "w2v_train"
   ]
  },
  {
   "cell_type": "code",
   "execution_count": 41,
   "metadata": {},
   "outputs": [],
   "source": [
    "w2v_train = np.dstack(w2v_train)[0]"
   ]
  },
  {
   "cell_type": "code",
   "execution_count": 42,
   "metadata": {},
   "outputs": [
    {
     "data": {
      "text/plain": [
       "array([[ 0.06856898,  0.1264682 ,  0.06822454, ...,  0.06299332,\n",
       "         0.12400533,  0.07023839],\n",
       "       [-0.01687665,  0.05371449, -0.01728141, ..., -0.02299773,\n",
       "         0.05167083, -0.01481802],\n",
       "       [-0.07560475,  0.12278561, -0.07702193, ..., -0.0934749 ,\n",
       "         0.11587055, -0.07025164],\n",
       "       ...,\n",
       "       [-0.23424228, -0.32891542, -0.23371655, ..., -0.22433671,\n",
       "        -0.32317835, -0.23660553],\n",
       "       [ 0.0495918 ,  0.11949872,  0.04913984, ...,  0.04314175,\n",
       "         0.11655879,  0.05129194],\n",
       "       [-0.16969532, -0.0932226 , -0.17064446, ..., -0.17618488,\n",
       "        -0.09421901, -0.1677468 ]], dtype=float32)"
      ]
     },
     "execution_count": 42,
     "metadata": {},
     "output_type": "execute_result"
    }
   ],
   "source": [
    "w2v_train"
   ]
  },
  {
   "cell_type": "code",
   "execution_count": 43,
   "metadata": {},
   "outputs": [
    {
     "data": {
      "text/plain": [
       "(160, 640)"
      ]
     },
     "execution_count": 43,
     "metadata": {},
     "output_type": "execute_result"
    }
   ],
   "source": [
    "w2v_train.shape"
   ]
  },
  {
   "cell_type": "markdown",
   "metadata": {},
   "source": [
    "## Классификация текстов\n",
    "Для каждого эмбеддинга вычислим по два суммарных вектора - для текстов истории и мира(вона и мир)"
   ]
  },
  {
   "cell_type": "markdown",
   "metadata": {},
   "source": [
    "#### Для Bag-of-Words"
   ]
  },
  {
   "cell_type": "code",
   "execution_count": 44,
   "metadata": {},
   "outputs": [
    {
     "data": {
      "text/plain": [
       "(1, 23015)"
      ]
     },
     "execution_count": 44,
     "metadata": {},
     "output_type": "execute_result"
    }
   ],
   "source": [
    "# средний текст войны и мира\n",
    "mir_mean_bof = np.sum( bof_train[y_train == 0], axis=0 )\n",
    "mir_mean_bof.shape"
   ]
  },
  {
   "cell_type": "code",
   "execution_count": 45,
   "metadata": {},
   "outputs": [
    {
     "data": {
      "text/plain": [
       "(1, 23015)"
      ]
     },
     "execution_count": 45,
     "metadata": {},
     "output_type": "execute_result"
    }
   ],
   "source": [
    "# средний текст истории\n",
    "istoria_mean_bof = np.sum( bof_train[y_train == 1], axis=0 )\n",
    "istoria_mean_bof.shape"
   ]
  },
  {
   "cell_type": "markdown",
   "metadata": {},
   "source": [
    "#### Для TF-IDF"
   ]
  },
  {
   "cell_type": "code",
   "execution_count": 46,
   "metadata": {},
   "outputs": [
    {
     "data": {
      "text/plain": [
       "(1, 23015)"
      ]
     },
     "execution_count": 46,
     "metadata": {},
     "output_type": "execute_result"
    }
   ],
   "source": [
    "mir_mean_tfidf = np.sum(tfidf_train[y_train == 0], axis=0 )\n",
    "\n",
    "istoria_mean_tfidf = np.sum(tfidf_train[y_train == 1], axis=0 )\n",
    "\n",
    "\n",
    "mir_mean_tfidf.shape"
   ]
  },
  {
   "cell_type": "markdown",
   "metadata": {},
   "source": [
    "#### Для Word2Vec"
   ]
  },
  {
   "cell_type": "code",
   "execution_count": 47,
   "metadata": {},
   "outputs": [
    {
     "data": {
      "text/plain": [
       "(160,)"
      ]
     },
     "execution_count": 47,
     "metadata": {},
     "output_type": "execute_result"
    }
   ],
   "source": [
    "\n",
    "mir_mean_w2v = np.sum(w2v_train[:,y_train==0], axis=1)\n",
    "\n",
    "istoria_mean_w2v = np.sum(w2v_train[:,y_train==1], axis=1)\n",
    "\n",
    "mir_mean_w2v.shape\n"
   ]
  },
  {
   "cell_type": "code",
   "execution_count": 48,
   "metadata": {},
   "outputs": [
    {
     "data": {
      "text/plain": [
       "array([  21.287577 ,   -6.163924 ,  -26.476585 ,   85.83214  ,\n",
       "        149.26796  ,  -56.159275 ,  101.77105  ,   35.123783 ,\n",
       "         43.15454  ,   30.66188  ,   29.60446  ,  -29.40686  ,\n",
       "        128.96446  , -143.71043  ,   43.52109  ,   -1.9750086,\n",
       "         -7.771004 ,   28.799927 ,   35.889076 ,  -13.183698 ,\n",
       "        -10.847549 ,  -18.75819  ,   16.454699 ,  -80.81402  ,\n",
       "        -29.581198 ,   -0.5708198,    0.7950161,   27.714745 ,\n",
       "        -50.793823 ,   41.053623 ,   48.60512  ,   81.034874 ,\n",
       "        104.470184 ,   73.848885 ,    4.269104 ,   -4.525141 ,\n",
       "        119.94722  ,   73.33815  ,   75.82867  ,  152.89772  ,\n",
       "         81.74312  ,  -90.15021  ,  -59.52719  ,  -51.42467  ,\n",
       "         38.28358  ,    4.311543 , -105.09328  ,  -36.85284  ,\n",
       "         79.86898  , -125.02247  ,   29.95111  ,   66.569695 ,\n",
       "        122.39261  ,   -4.8092976,   59.299915 ,   84.72803  ,\n",
       "         97.293915 ,  -60.506783 ,  -57.129036 , -120.75789  ,\n",
       "        -53.368374 ,   13.371088 ,   78.56778  ,   89.19627  ,\n",
       "         47.844578 ,   75.07622  ,  110.07173  ,   20.164003 ,\n",
       "        -25.050495 ,  -18.81213  ,   -5.55003  ,    1.9067643,\n",
       "          0.6026485,  134.26741  ,  126.2179   ,   66.743034 ,\n",
       "        -45.64211  ,  104.53781  ,   19.10458  ,  -84.24697  ,\n",
       "        -42.15212  ,    2.57804  ,   37.62946  ,   45.955498 ,\n",
       "       -101.024185 ,   98.84146  ,  -47.830975 ,   29.861534 ,\n",
       "         39.36995  ,  -90.280945 ,   43.80013  ,   93.000565 ,\n",
       "        -23.073353 ,  -41.387543 ,  111.39874  ,  -22.183872 ,\n",
       "        -58.998356 ,  -43.85272  ,  -43.949066 ,  135.27948  ,\n",
       "        -34.662712 ,  134.88588  ,   38.324017 ,   43.67579  ,\n",
       "         -6.0399833,  -51.690292 ,  145.47029  ,   43.174232 ,\n",
       "        -14.762711 ,    9.857687 ,   26.3646   ,  -77.2645   ,\n",
       "        -68.098656 ,  -14.189191 ,   10.968269 ,  -66.48737  ,\n",
       "         -1.2806245,  -52.86589  ,  -57.794518 ,   33.090508 ,\n",
       "         44.402363 ,   -3.774439 , -110.20828  ,  -48.11315  ,\n",
       "        -33.785774 ,  -12.215636 ,    0.6727912,   13.223376 ,\n",
       "        -69.027565 ,   35.859707 ,   71.385345 ,   29.112333 ,\n",
       "         66.62422  ,   25.68128  ,  -63.1638   ,    3.6796732,\n",
       "        -66.678566 ,   -2.4942982,   76.124306 ,    2.8365028,\n",
       "        -58.385353 ,  -24.383718 ,   40.60278  ,  -32.730667 ,\n",
       "         56.16953  ,    6.5559216,  -26.976137 ,  -97.71962  ,\n",
       "        -51.512016 ,   -7.1899486,   28.151138 ,   20.201305 ,\n",
       "         19.052465 ,  102.18521  ,  -10.754661 ,   12.824606 ,\n",
       "        -91.81181  ,  -73.78884  ,   15.045298 ,  -55.24512  ],\n",
       "      dtype=float32)"
      ]
     },
     "execution_count": 48,
     "metadata": {},
     "output_type": "execute_result"
    }
   ],
   "source": [
    "mir_mean_w2v"
   ]
  },
  {
   "cell_type": "markdown",
   "metadata": {},
   "source": [
    "Построим датафреймы с результатами классификаций тестовых текстов. Решение - по косинусному расстоянию."
   ]
  },
  {
   "cell_type": "code",
   "execution_count": 50,
   "metadata": {},
   "outputs": [
    {
     "data": {
      "text/html": [
       "<div>\n",
       "<style scoped>\n",
       "    .dataframe tbody tr th:only-of-type {\n",
       "        vertical-align: middle;\n",
       "    }\n",
       "\n",
       "    .dataframe tbody tr th {\n",
       "        vertical-align: top;\n",
       "    }\n",
       "\n",
       "    .dataframe thead th {\n",
       "        text-align: right;\n",
       "    }\n",
       "</style>\n",
       "<table border=\"1\" class=\"dataframe\">\n",
       "  <thead>\n",
       "    <tr style=\"text-align: right;\">\n",
       "      <th></th>\n",
       "      <th>mir</th>\n",
       "      <th>istoria</th>\n",
       "      <th>predict</th>\n",
       "      <th>class</th>\n",
       "    </tr>\n",
       "  </thead>\n",
       "  <tbody>\n",
       "    <tr>\n",
       "      <th>0</th>\n",
       "      <td>0.482883</td>\n",
       "      <td>0.311288</td>\n",
       "      <td>1.0</td>\n",
       "      <td>1.0</td>\n",
       "    </tr>\n",
       "    <tr>\n",
       "      <th>1</th>\n",
       "      <td>0.429743</td>\n",
       "      <td>0.289305</td>\n",
       "      <td>1.0</td>\n",
       "      <td>1.0</td>\n",
       "    </tr>\n",
       "    <tr>\n",
       "      <th>2</th>\n",
       "      <td>0.198570</td>\n",
       "      <td>0.286129</td>\n",
       "      <td>0.0</td>\n",
       "      <td>0.0</td>\n",
       "    </tr>\n",
       "    <tr>\n",
       "      <th>3</th>\n",
       "      <td>0.426814</td>\n",
       "      <td>0.311105</td>\n",
       "      <td>1.0</td>\n",
       "      <td>1.0</td>\n",
       "    </tr>\n",
       "    <tr>\n",
       "      <th>4</th>\n",
       "      <td>0.153879</td>\n",
       "      <td>0.312206</td>\n",
       "      <td>0.0</td>\n",
       "      <td>0.0</td>\n",
       "    </tr>\n",
       "    <tr>\n",
       "      <th>...</th>\n",
       "      <td>...</td>\n",
       "      <td>...</td>\n",
       "      <td>...</td>\n",
       "      <td>...</td>\n",
       "    </tr>\n",
       "    <tr>\n",
       "      <th>155</th>\n",
       "      <td>0.486079</td>\n",
       "      <td>0.293769</td>\n",
       "      <td>1.0</td>\n",
       "      <td>1.0</td>\n",
       "    </tr>\n",
       "    <tr>\n",
       "      <th>156</th>\n",
       "      <td>0.330891</td>\n",
       "      <td>0.272752</td>\n",
       "      <td>1.0</td>\n",
       "      <td>1.0</td>\n",
       "    </tr>\n",
       "    <tr>\n",
       "      <th>157</th>\n",
       "      <td>0.447075</td>\n",
       "      <td>0.276866</td>\n",
       "      <td>1.0</td>\n",
       "      <td>1.0</td>\n",
       "    </tr>\n",
       "    <tr>\n",
       "      <th>158</th>\n",
       "      <td>0.447795</td>\n",
       "      <td>0.305260</td>\n",
       "      <td>1.0</td>\n",
       "      <td>1.0</td>\n",
       "    </tr>\n",
       "    <tr>\n",
       "      <th>159</th>\n",
       "      <td>0.473498</td>\n",
       "      <td>0.333679</td>\n",
       "      <td>1.0</td>\n",
       "      <td>1.0</td>\n",
       "    </tr>\n",
       "  </tbody>\n",
       "</table>\n",
       "<p>160 rows × 4 columns</p>\n",
       "</div>"
      ],
      "text/plain": [
       "          mir   istoria  predict  class\n",
       "0    0.482883  0.311288      1.0    1.0\n",
       "1    0.429743  0.289305      1.0    1.0\n",
       "2    0.198570  0.286129      0.0    0.0\n",
       "3    0.426814  0.311105      1.0    1.0\n",
       "4    0.153879  0.312206      0.0    0.0\n",
       "..        ...       ...      ...    ...\n",
       "155  0.486079  0.293769      1.0    1.0\n",
       "156  0.330891  0.272752      1.0    1.0\n",
       "157  0.447075  0.276866      1.0    1.0\n",
       "158  0.447795  0.305260      1.0    1.0\n",
       "159  0.473498  0.333679      1.0    1.0\n",
       "\n",
       "[160 rows x 4 columns]"
      ]
     },
     "execution_count": 50,
     "metadata": {},
     "output_type": "execute_result"
    }
   ],
   "source": [
    "from scipy.spatial.distance import cosine\n",
    "\n",
    "bof_mir = np.apply_along_axis(cosine, 1, bof_test.toarray(), v=mir_mean_bof)\n",
    "bof_istoria = np.apply_along_axis(cosine, 1, bof_test.toarray(), v=istoria_mean_bof)\n",
    "\n",
    "bof_results = pd.DataFrame ([\n",
    "    bof_mir,\n",
    "    bof_istoria,\n",
    "    np.maximum(bof_mir, bof_istoria) != bof_istoria,\n",
    "    y_test\n",
    "], index=[\"mir\", \"istoria\", \"predict\", \"class\"]).T.astype(np.float)\n",
    "\n",
    "bof_results"
   ]
  },
  {
   "cell_type": "code",
   "execution_count": 51,
   "metadata": {},
   "outputs": [
    {
     "data": {
      "text/plain": [
       "1.0"
      ]
     },
     "execution_count": 51,
     "metadata": {},
     "output_type": "execute_result"
    }
   ],
   "source": [
    "from sklearn.metrics import accuracy_score\n",
    "\n",
    "accuracy_score(bof_results[\"predict\"], bof_results[\"class\"])"
   ]
  },
  {
   "cell_type": "code",
   "execution_count": 52,
   "metadata": {},
   "outputs": [
    {
     "data": {
      "text/html": [
       "<div>\n",
       "<style scoped>\n",
       "    .dataframe tbody tr th:only-of-type {\n",
       "        vertical-align: middle;\n",
       "    }\n",
       "\n",
       "    .dataframe tbody tr th {\n",
       "        vertical-align: top;\n",
       "    }\n",
       "\n",
       "    .dataframe thead th {\n",
       "        text-align: right;\n",
       "    }\n",
       "</style>\n",
       "<table border=\"1\" class=\"dataframe\">\n",
       "  <thead>\n",
       "    <tr style=\"text-align: right;\">\n",
       "      <th></th>\n",
       "      <th>mir</th>\n",
       "      <th>istoria</th>\n",
       "      <th>predict</th>\n",
       "      <th>class</th>\n",
       "    </tr>\n",
       "  </thead>\n",
       "  <tbody>\n",
       "    <tr>\n",
       "      <th>0</th>\n",
       "      <td>0.801804</td>\n",
       "      <td>0.649217</td>\n",
       "      <td>1.0</td>\n",
       "      <td>1.0</td>\n",
       "    </tr>\n",
       "    <tr>\n",
       "      <th>1</th>\n",
       "      <td>0.772935</td>\n",
       "      <td>0.650867</td>\n",
       "      <td>1.0</td>\n",
       "      <td>1.0</td>\n",
       "    </tr>\n",
       "    <tr>\n",
       "      <th>2</th>\n",
       "      <td>0.503860</td>\n",
       "      <td>0.670587</td>\n",
       "      <td>0.0</td>\n",
       "      <td>0.0</td>\n",
       "    </tr>\n",
       "    <tr>\n",
       "      <th>3</th>\n",
       "      <td>0.781306</td>\n",
       "      <td>0.656577</td>\n",
       "      <td>1.0</td>\n",
       "      <td>1.0</td>\n",
       "    </tr>\n",
       "    <tr>\n",
       "      <th>4</th>\n",
       "      <td>0.488976</td>\n",
       "      <td>0.678448</td>\n",
       "      <td>0.0</td>\n",
       "      <td>0.0</td>\n",
       "    </tr>\n",
       "    <tr>\n",
       "      <th>...</th>\n",
       "      <td>...</td>\n",
       "      <td>...</td>\n",
       "      <td>...</td>\n",
       "      <td>...</td>\n",
       "    </tr>\n",
       "    <tr>\n",
       "      <th>155</th>\n",
       "      <td>0.790895</td>\n",
       "      <td>0.634754</td>\n",
       "      <td>1.0</td>\n",
       "      <td>1.0</td>\n",
       "    </tr>\n",
       "    <tr>\n",
       "      <th>156</th>\n",
       "      <td>0.726309</td>\n",
       "      <td>0.614806</td>\n",
       "      <td>1.0</td>\n",
       "      <td>1.0</td>\n",
       "    </tr>\n",
       "    <tr>\n",
       "      <th>157</th>\n",
       "      <td>0.782911</td>\n",
       "      <td>0.639474</td>\n",
       "      <td>1.0</td>\n",
       "      <td>1.0</td>\n",
       "    </tr>\n",
       "    <tr>\n",
       "      <th>158</th>\n",
       "      <td>0.784943</td>\n",
       "      <td>0.664064</td>\n",
       "      <td>1.0</td>\n",
       "      <td>1.0</td>\n",
       "    </tr>\n",
       "    <tr>\n",
       "      <th>159</th>\n",
       "      <td>0.785272</td>\n",
       "      <td>0.656781</td>\n",
       "      <td>1.0</td>\n",
       "      <td>1.0</td>\n",
       "    </tr>\n",
       "  </tbody>\n",
       "</table>\n",
       "<p>160 rows × 4 columns</p>\n",
       "</div>"
      ],
      "text/plain": [
       "          mir   istoria  predict  class\n",
       "0    0.801804  0.649217      1.0    1.0\n",
       "1    0.772935  0.650867      1.0    1.0\n",
       "2    0.503860  0.670587      0.0    0.0\n",
       "3    0.781306  0.656577      1.0    1.0\n",
       "4    0.488976  0.678448      0.0    0.0\n",
       "..        ...       ...      ...    ...\n",
       "155  0.790895  0.634754      1.0    1.0\n",
       "156  0.726309  0.614806      1.0    1.0\n",
       "157  0.782911  0.639474      1.0    1.0\n",
       "158  0.784943  0.664064      1.0    1.0\n",
       "159  0.785272  0.656781      1.0    1.0\n",
       "\n",
       "[160 rows x 4 columns]"
      ]
     },
     "execution_count": 52,
     "metadata": {},
     "output_type": "execute_result"
    }
   ],
   "source": [
    "tfidf_mir = np.apply_along_axis(cosine, 1, tfidf_test.toarray(), v=mir_mean_tfidf)\n",
    "tfidf_istoria = np.apply_along_axis(cosine, 1, tfidf_test.toarray(), v=istoria_mean_tfidf)\n",
    "\n",
    "tfidf_results = pd.DataFrame ([\n",
    "    tfidf_mir,\n",
    "    tfidf_istoria,\n",
    "    np.maximum(tfidf_mir, tfidf_istoria) != tfidf_istoria,\n",
    "    y_test\n",
    "], index=[\"mir\", \"istoria\", \"predict\", \"class\"]).T.astype (np.float)\n",
    "\n",
    "tfidf_results"
   ]
  },
  {
   "cell_type": "code",
   "execution_count": 53,
   "metadata": {},
   "outputs": [
    {
     "data": {
      "text/plain": [
       "1.0"
      ]
     },
     "execution_count": 53,
     "metadata": {},
     "output_type": "execute_result"
    }
   ],
   "source": [
    "accuracy_score(tfidf_results[\"predict\"], tfidf_results[\"class\"])"
   ]
  },
  {
   "cell_type": "code",
   "execution_count": 54,
   "metadata": {},
   "outputs": [
    {
     "data": {
      "text/html": [
       "<div>\n",
       "<style scoped>\n",
       "    .dataframe tbody tr th:only-of-type {\n",
       "        vertical-align: middle;\n",
       "    }\n",
       "\n",
       "    .dataframe tbody tr th {\n",
       "        vertical-align: top;\n",
       "    }\n",
       "\n",
       "    .dataframe thead th {\n",
       "        text-align: right;\n",
       "    }\n",
       "</style>\n",
       "<table border=\"1\" class=\"dataframe\">\n",
       "  <thead>\n",
       "    <tr style=\"text-align: right;\">\n",
       "      <th></th>\n",
       "      <th>mir</th>\n",
       "      <th>istoria</th>\n",
       "      <th>predict</th>\n",
       "      <th>class</th>\n",
       "    </tr>\n",
       "  </thead>\n",
       "  <tbody>\n",
       "    <tr>\n",
       "      <th>0</th>\n",
       "      <td>0.801804</td>\n",
       "      <td>0.649217</td>\n",
       "      <td>1.0</td>\n",
       "      <td>1.0</td>\n",
       "    </tr>\n",
       "    <tr>\n",
       "      <th>1</th>\n",
       "      <td>0.772935</td>\n",
       "      <td>0.650867</td>\n",
       "      <td>1.0</td>\n",
       "      <td>1.0</td>\n",
       "    </tr>\n",
       "    <tr>\n",
       "      <th>2</th>\n",
       "      <td>0.503860</td>\n",
       "      <td>0.670587</td>\n",
       "      <td>1.0</td>\n",
       "      <td>0.0</td>\n",
       "    </tr>\n",
       "    <tr>\n",
       "      <th>3</th>\n",
       "      <td>0.781306</td>\n",
       "      <td>0.656577</td>\n",
       "      <td>1.0</td>\n",
       "      <td>1.0</td>\n",
       "    </tr>\n",
       "    <tr>\n",
       "      <th>4</th>\n",
       "      <td>0.488976</td>\n",
       "      <td>0.678448</td>\n",
       "      <td>1.0</td>\n",
       "      <td>0.0</td>\n",
       "    </tr>\n",
       "    <tr>\n",
       "      <th>...</th>\n",
       "      <td>...</td>\n",
       "      <td>...</td>\n",
       "      <td>...</td>\n",
       "      <td>...</td>\n",
       "    </tr>\n",
       "    <tr>\n",
       "      <th>155</th>\n",
       "      <td>0.790895</td>\n",
       "      <td>0.634754</td>\n",
       "      <td>1.0</td>\n",
       "      <td>1.0</td>\n",
       "    </tr>\n",
       "    <tr>\n",
       "      <th>156</th>\n",
       "      <td>0.726309</td>\n",
       "      <td>0.614806</td>\n",
       "      <td>0.0</td>\n",
       "      <td>1.0</td>\n",
       "    </tr>\n",
       "    <tr>\n",
       "      <th>157</th>\n",
       "      <td>0.782911</td>\n",
       "      <td>0.639474</td>\n",
       "      <td>0.0</td>\n",
       "      <td>1.0</td>\n",
       "    </tr>\n",
       "    <tr>\n",
       "      <th>158</th>\n",
       "      <td>0.784943</td>\n",
       "      <td>0.664064</td>\n",
       "      <td>1.0</td>\n",
       "      <td>1.0</td>\n",
       "    </tr>\n",
       "    <tr>\n",
       "      <th>159</th>\n",
       "      <td>0.785272</td>\n",
       "      <td>0.656781</td>\n",
       "      <td>0.0</td>\n",
       "      <td>1.0</td>\n",
       "    </tr>\n",
       "  </tbody>\n",
       "</table>\n",
       "<p>160 rows × 4 columns</p>\n",
       "</div>"
      ],
      "text/plain": [
       "          mir   istoria  predict  class\n",
       "0    0.801804  0.649217      1.0    1.0\n",
       "1    0.772935  0.650867      1.0    1.0\n",
       "2    0.503860  0.670587      1.0    0.0\n",
       "3    0.781306  0.656577      1.0    1.0\n",
       "4    0.488976  0.678448      1.0    0.0\n",
       "..        ...       ...      ...    ...\n",
       "155  0.790895  0.634754      1.0    1.0\n",
       "156  0.726309  0.614806      0.0    1.0\n",
       "157  0.782911  0.639474      0.0    1.0\n",
       "158  0.784943  0.664064      1.0    1.0\n",
       "159  0.785272  0.656781      0.0    1.0\n",
       "\n",
       "[160 rows x 4 columns]"
      ]
     },
     "execution_count": 54,
     "metadata": {},
     "output_type": "execute_result"
    }
   ],
   "source": [
    "# w2v\n",
    "\n",
    "w2v_mir = np.apply_along_axis(cosine, 0, w2v_test, v=mir_mean_w2v)\n",
    "w2v_istoria = np.apply_along_axis(cosine, 0, w2v_test, v=istoria_mean_w2v)\n",
    "\n",
    "w2v_results = pd.DataFrame ([\n",
    "    tfidf_mir,\n",
    "    tfidf_istoria,\n",
    "    np.maximum(w2v_mir, w2v_istoria) != w2v_istoria,\n",
    "    y_test\n",
    "], index=[\"mir\", \"istoria\", \"predict\", \"class\"]).T.astype (np.float)\n",
    "\n",
    "w2v_results\n",
    "\n"
   ]
  },
  {
   "cell_type": "code",
   "execution_count": 55,
   "metadata": {},
   "outputs": [
    {
     "data": {
      "text/plain": [
       "0.525"
      ]
     },
     "execution_count": 55,
     "metadata": {},
     "output_type": "execute_result"
    }
   ],
   "source": [
    "accuracy_score(w2v_results[\"predict\"], w2v_results[\"class\"])"
   ]
  },
  {
   "cell_type": "markdown",
   "metadata": {},
   "source": [
    "#### Попробуем применить классическую модель поверх эмбеддингов"
   ]
  },
  {
   "cell_type": "code",
   "execution_count": 56,
   "metadata": {},
   "outputs": [
    {
     "data": {
      "text/plain": [
       "1.0"
      ]
     },
     "execution_count": 56,
     "metadata": {},
     "output_type": "execute_result"
    }
   ],
   "source": [
    "from sklearn.ensemble import RandomForestClassifier\n",
    "\n",
    "RandomForestClassifier().fit(tfidf_train.toarray(), y_train.tolist()).score(tfidf_test.toarray(), y_test.tolist())"
   ]
  },
  {
   "cell_type": "code",
   "execution_count": 57,
   "metadata": {},
   "outputs": [
    {
     "data": {
      "text/plain": [
       "1.0"
      ]
     },
     "execution_count": 57,
     "metadata": {},
     "output_type": "execute_result"
    }
   ],
   "source": [
    "RandomForestClassifier().fit(bof_train.toarray(), y_train.tolist()).score(bof_test.toarray(), y_test.tolist())"
   ]
  },
  {
   "cell_type": "code",
   "execution_count": null,
   "metadata": {},
   "outputs": [],
   "source": []
  }
 ],
 "metadata": {
  "kernelspec": {
   "display_name": "Python 3",
   "language": "python",
   "name": "python3"
  },
  "language_info": {
   "codemirror_mode": {
    "name": "ipython",
    "version": 3
   },
   "file_extension": ".py",
   "mimetype": "text/x-python",
   "name": "python",
   "nbconvert_exporter": "python",
   "pygments_lexer": "ipython3",
   "version": "3.6.9"
  }
 },
 "nbformat": 4,
 "nbformat_minor": 4
}
