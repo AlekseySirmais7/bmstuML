{
 "cells": [
  {
   "cell_type": "markdown",
   "metadata": {},
   "source": [
    "# Лабораторная работа 4"
   ]
  },
  {
   "cell_type": "markdown",
   "metadata": {},
   "source": [
    "* Убедиться в нестабильности одиночного дерева на своих данных\n",
    "* Отобрать самые важные признаки случайным лесом, сравнить с отбором признаков линейным методом  c L1-регуляризацией\n",
    "* Сравнить качество работы случайного леса без кросс-валидации с кросс-валидации\n",
    "* Сравнить качество работы и время обучения леса с градиентным бустингом над решающими деревьями, подобрав для каждого оптимальные параметры. Градиентный бустинг обучать на видеокарте."
   ]
  },
  {
   "cell_type": "code",
   "execution_count": 1,
   "metadata": {},
   "outputs": [
    {
     "name": "stdout",
     "output_type": "stream",
     "text": [
      "<class 'pandas.core.frame.DataFrame'>\n",
      "RangeIndex: 714 entries, 0 to 713\n",
      "Data columns (total 8 columns):\n",
      " #   Column  Non-Null Count  Dtype  \n",
      "---  ------  --------------  -----  \n",
      " 0   Sex     714 non-null    float64\n",
      " 1   Age     714 non-null    float64\n",
      " 2   SibSp   714 non-null    float64\n",
      " 3   Parch   714 non-null    float64\n",
      " 4   Fare    714 non-null    float64\n",
      " 5   is_S    714 non-null    float64\n",
      " 6   is_C    714 non-null    float64\n",
      " 7   is_Q    714 non-null    float64\n",
      "dtypes: float64(8)\n",
      "memory usage: 44.8 KB\n"
     ]
    }
   ],
   "source": [
    "# загрузим данные\n",
    "\n",
    "#импорт необходимых модулей\n",
    "import pandas as pd\n",
    "import numpy as np\n",
    "import matplotlib.pyplot as plt\n",
    "import seaborn as sns\n",
    "from matplotlib.pylab import rcParams\n",
    "\n",
    "# результат по выживани.\n",
    "trainSurvivedPath = '/home/alex/Downloads/bmstuML/dataMl/trainSurvived.plk'\n",
    "testSurvivedPath = '/home/alex/Downloads/bmstuML/dataMl/testSurvived.plk'\n",
    "\n",
    "y_train = pd.read_pickle(trainSurvivedPath)\n",
    "y_test = pd.read_pickle(testSurvivedPath)\n",
    "\n",
    "\n",
    "# подготовленные данные из ЛР 2\n",
    "trainDataPath = '/home/alex/Downloads/bmstuML/dataMl/trainData.plk'\n",
    "testDataPath = '/home/alex/Downloads/bmstuML/dataMl/testData.plk'\n",
    "\n",
    "X_train = pd.read_pickle(trainDataPath)\n",
    "X_test = pd.read_pickle(testDataPath)\n",
    "\n",
    "\n",
    "X_train.info()"
   ]
  },
  {
   "cell_type": "markdown",
   "metadata": {},
   "source": [
    "### Нестабильность одиночного дерева"
   ]
  },
  {
   "cell_type": "code",
   "execution_count": 6,
   "metadata": {},
   "outputs": [],
   "source": [
    "#необходимый импорт\n",
    "\n",
    "import warnings\n",
    "warnings.filterwarnings('ignore')\n",
    "import numpy as np\n",
    "import pandas as pd\n",
    "import pylab as plt\n",
    "import seaborn as sns\n",
    "from matplotlib import pyplot as plt"
   ]
  },
  {
   "cell_type": "code",
   "execution_count": 7,
   "metadata": {},
   "outputs": [],
   "source": [
    "# def get_grid(data, eps=0.01):\n",
    "#     x_min, x_max = data[:,0].min() - 1, data[:,0].max() + 1\n",
    "#     y_min, y_max = data[:,1].min() - 1, data[:,1].max() + 1\n",
    "#     return np.meshgrid(np.arange(x_min, x_max, eps),\n",
    "#                       np.arange(y_min, y_max, eps))\n",
    "\n",
    "\n",
    "# plt.rcParams['figure.figsize'] = (10,8)"
   ]
  },
  {
   "cell_type": "code",
   "execution_count": 55,
   "metadata": {},
   "outputs": [
    {
     "name": "stdout",
     "output_type": "stream",
     "text": [
      "precision_score: 0.8807339449541285\n"
     ]
    }
   ],
   "source": [
    "from sklearn.tree import DecisionTreeClassifier\n",
    "from sklearn.metrics import precision_score\n",
    "\n",
    "#max_features=3\n",
    "clf_tree = DecisionTreeClassifier(criterion='entropy', max_depth=5, random_state=15)\n",
    "\n",
    "clf_tree.fit(X_train, y_train)\n",
    "\n",
    "predicted = clf_tree.predict(X_test)\n",
    "\n",
    "prec_score = precision_score(y_test, predicted)\n",
    "\n",
    "print('precision_score:', prec_score)\n",
    "\n"
   ]
  },
  {
   "cell_type": "code",
   "execution_count": 26,
   "metadata": {},
   "outputs": [
    {
     "data": {
      "text/html": [
       "<div>\n",
       "<style scoped>\n",
       "    .dataframe tbody tr th:only-of-type {\n",
       "        vertical-align: middle;\n",
       "    }\n",
       "\n",
       "    .dataframe tbody tr th {\n",
       "        vertical-align: top;\n",
       "    }\n",
       "\n",
       "    .dataframe thead th {\n",
       "        text-align: right;\n",
       "    }\n",
       "</style>\n",
       "<table border=\"1\" class=\"dataframe\">\n",
       "  <thead>\n",
       "    <tr style=\"text-align: right;\">\n",
       "      <th></th>\n",
       "      <th>Sex</th>\n",
       "      <th>Age</th>\n",
       "      <th>SibSp</th>\n",
       "      <th>Parch</th>\n",
       "      <th>Fare</th>\n",
       "      <th>is_S</th>\n",
       "      <th>is_C</th>\n",
       "      <th>is_Q</th>\n",
       "    </tr>\n",
       "  </thead>\n",
       "  <tbody>\n",
       "    <tr>\n",
       "      <th>0</th>\n",
       "      <td>1.0</td>\n",
       "      <td>0.452723</td>\n",
       "      <td>0.0</td>\n",
       "      <td>0.0</td>\n",
       "      <td>0.015282</td>\n",
       "      <td>0.0</td>\n",
       "      <td>0.0</td>\n",
       "      <td>1.0</td>\n",
       "    </tr>\n",
       "  </tbody>\n",
       "</table>\n",
       "</div>"
      ],
      "text/plain": [
       "   Sex       Age  SibSp  Parch      Fare  is_S  is_C  is_Q\n",
       "0  1.0  0.452723    0.0    0.0  0.015282   0.0   0.0   1.0"
      ]
     },
     "execution_count": 26,
     "metadata": {},
     "output_type": "execute_result"
    }
   ],
   "source": [
    "X_test.head(1)"
   ]
  },
  {
   "cell_type": "code",
   "execution_count": 43,
   "metadata": {},
   "outputs": [
    {
     "data": {
      "application/vnd.jupyter.widget-view+json": {
       "model_id": "16476f213f72479d92293e9b7144c211",
       "version_major": 2,
       "version_minor": 0
      },
      "text/plain": [
       "Image(value=b'\\x89PNG\\r\\n\\x1a\\n\\x00\\x00\\x00\\rIHDR\\x00\\x00\\x05\\x12\\x00\\x00\\x01\\xf1\\x08\\x02\\x00\\x00\\x00\\x9e\\\\\\xd…"
      ]
     },
     "metadata": {},
     "output_type": "display_data"
    }
   ],
   "source": [
    "from ipywidgets import Image\n",
    "from io import StringIO\n",
    "import pydotplus\n",
    "from sklearn.tree import export_graphviz\n",
    "\n",
    "my_feature_names = ['Sex', 'Age','SibSp','Parch','Fare','is_S', 'is_C', 'is_Q' ]\n",
    "\n",
    "dot_data = StringIO()\n",
    "export_graphviz(clf_tree, feature_names=my_feature_names,\n",
    "               out_file=dot_data, filled=True)\n",
    "\n",
    "graph = pydotplus.graph_from_dot_data(dot_data.getvalue())\n",
    "Image(value=graph.create_png())\n",
    "\n"
   ]
  },
  {
   "cell_type": "markdown",
   "metadata": {},
   "source": [
    "Отметим нестабильность дерева. При изменении max_features=3 дерево заметно меняется (меняются важные признаки глубины 1)."
   ]
  },
  {
   "cell_type": "markdown",
   "metadata": {},
   "source": [
    "### Самые важные признаки\n",
    "\n",
    "Самый важный признак - пол пассажира. На данном узле энтропия уменьшается больше всего, данный узел выше всех.\n",
    "Еще важынй признаки плата за билет и возраст.\n",
    "\n",
    "В L1 регуляризации максимальные веса были также у пола и цены билета. ([-0.51781201(пол) -0.18299523 -0.20908921 -0.10937898  0.56521648(цена за билет) -0.05500351 0.07227682 -0.14884301])\n"
   ]
  },
  {
   "cell_type": "markdown",
   "metadata": {},
   "source": [
    "### Случайной лес без кросс-валидацией с кросс-валидацией\n",
    "\n"
   ]
  },
  {
   "cell_type": "code",
   "execution_count": 61,
   "metadata": {},
   "outputs": [
    {
     "name": "stdout",
     "output_type": "stream",
     "text": [
      "prec_score_rand_forest: 0.9312977099236641\n"
     ]
    }
   ],
   "source": [
    "from sklearn.ensemble import RandomForestClassifier\n",
    "\n",
    "rf = RandomForestClassifier(n_estimators=10, max_depth=5).fit(X_train, y_train)\n",
    "\n",
    "predicted_rf = rf.predict(X_test)\n",
    "\n",
    "prec_score_rand_forest = precision_score(y_test, predicted_rf)\n",
    "\n",
    "print('prec_score_rand_forest:', prec_score_rand_forest)"
   ]
  },
  {
   "cell_type": "code",
   "execution_count": 68,
   "metadata": {},
   "outputs": [
    {
     "name": "stdout",
     "output_type": "stream",
     "text": [
      "[1. 1. 1. 1. 1.]\n"
     ]
    },
    {
     "data": {
      "text/plain": [
       "array([1., 1., 1., 1., 1.])"
      ]
     },
     "execution_count": 68,
     "metadata": {},
     "output_type": "execute_result"
    }
   ],
   "source": [
    "# ищу смысл тут\n",
    "\n",
    "from sklearn.model_selection import KFold\n",
    "from sklearn.model_selection import cross_val_score\n",
    "\n",
    "\n",
    "\n",
    "rf = RandomForestClassifier(n_estimators=10, max_depth=5)\n",
    "\n",
    "\n",
    "#kf = KFold(n=len(X), n_folds=5, shuffle=True, random_state=42)\n",
    " \n",
    "#kMeans = list()\n",
    "#for k in range(1, 51):\n",
    "#    kn = RandomForestClassifier(n_estimators=10, max_depth=5)\n",
    "#    kn.fit(X_train, y_train);\n",
    "#    array = cross_val_score(estimator=kn, X=X, y=y, cv=kf, scoring='accuracy')\n",
    "#    m = array.mean()\n",
    "#    kMeans.append(m)\n",
    "\n",
    "\n",
    "#from sklearn.model_selection import cross_validate\n",
    "#rf1=RandomForestRegressor(n_estimators=10)\n",
    "\n",
    "#scores_val = cross_val_score(rf1, X_test, y_test, cv=5)\n",
    "#print(scores_val)\n",
    "#cv_results = cross_validate(rf1, X_test, y_test, cv=5)\n",
    "#cv_results['test_score']"
   ]
  },
  {
   "cell_type": "code",
   "execution_count": null,
   "metadata": {},
   "outputs": [],
   "source": []
  }
 ],
 "metadata": {
  "kernelspec": {
   "display_name": "Python 3",
   "language": "python",
   "name": "python3"
  },
  "language_info": {
   "codemirror_mode": {
    "name": "ipython",
    "version": 3
   },
   "file_extension": ".py",
   "mimetype": "text/x-python",
   "name": "python",
   "nbconvert_exporter": "python",
   "pygments_lexer": "ipython3",
   "version": "3.6.9"
  }
 },
 "nbformat": 4,
 "nbformat_minor": 4
}
